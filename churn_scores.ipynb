{
  "nbformat": 4,
  "nbformat_minor": 0,
  "metadata": {
    "colab": {
      "name": "churn_scores.ipynb",
      "provenance": [],
      "collapsed_sections": []
    },
    "kernelspec": {
      "name": "python3",
      "display_name": "Python 3"
    },
    "language_info": {
      "name": "python"
    }
  },
  "cells": [
    {
      "cell_type": "code",
      "execution_count": 2,
      "metadata": {
        "id": "aUIEn4vQQNvW"
      },
      "outputs": [],
      "source": [
        "import pandas as pd\n",
        "import numpy as np\n",
        "import matplotlib.pyplot as plt\n",
        "import seaborn as sns\n",
        "from sklearn.preprocessing import MinMaxScaler\n",
        "from sklearn.metrics import f1_score\n",
        "from sklearn.feature_selection import chi2\n",
        "from sklearn.model_selection import GridSearchCV\n",
        "from sklearn.model_selection import train_test_split\n",
        "from sklearn.ensemble import RandomForestClassifier\n",
        "from sklearn.metrics import confusion_matrix\n",
        "from sklearn.model_selection import cross_val_score\n",
        "from mlxtend.plotting import plot_confusion_matrix\n",
        "from sklearn.feature_selection import mutual_info_classif\n",
        "pd.set_option('display.max_columns', None)\n",
        "%matplotlib inline"
      ]
    },
    {
      "cell_type": "code",
      "source": [
        "churn_df = pd.read_csv(\"/content/train.csv\")"
      ],
      "metadata": {
        "id": "PyDPvnonQbH-"
      },
      "execution_count": 3,
      "outputs": []
    },
    {
      "cell_type": "code",
      "source": [
        "print(churn_df.shape)\n",
        "churn_df.head()"
      ],
      "metadata": {
        "colab": {
          "base_uri": "https://localhost:8080/",
          "height": 409
        },
        "id": "unD0HpOuRCO1",
        "outputId": "1a485ba4-0e4c-45f6-837c-d8b8a00c8e66"
      },
      "execution_count": 4,
      "outputs": [
        {
          "output_type": "stream",
          "name": "stdout",
          "text": [
            "(13368, 25)\n"
          ]
        },
        {
          "output_type": "execute_result",
          "data": {
            "text/plain": [
              "                            customer_id              Name  age gender  \\\n",
              "0      fffe4300490044003600300030003800   Pattie Morrisey   18      F   \n",
              "1  fffe43004900440032003100300035003700       Traci Peery   32      F   \n",
              "2      fffe4300490044003100390032003600   Merideth Mcmeen   44      F   \n",
              "3  fffe43004900440036003000330031003600  Eufemia Cardwell   37      M   \n",
              "4  fffe43004900440031003900350030003600      Meghan Kosak   31      F   \n",
              "\n",
              "  security_no region_category  membership_category joining_date  \\\n",
              "0     XW0DQ7H         Village  Platinum Membership   2017-08-17   \n",
              "1     5K0N3X1            City   Premium Membership   2017-08-28   \n",
              "2     1F2TCL3            Town        No Membership   2016-11-11   \n",
              "3     VJGJ33N            City        No Membership   2016-10-29   \n",
              "4     SVZXCWB            City        No Membership   2017-09-12   \n",
              "\n",
              "  joined_through_referral referral_id     preferred_offer_types  \\\n",
              "0                      No    xxxxxxxx     Gift Vouchers/Coupons   \n",
              "1                       ?    CID21329     Gift Vouchers/Coupons   \n",
              "2                     Yes    CID12313     Gift Vouchers/Coupons   \n",
              "3                     Yes     CID3793     Gift Vouchers/Coupons   \n",
              "4                      No    xxxxxxxx  Credit/Debit Card Offers   \n",
              "\n",
              "  medium_of_operation internet_option last_visit_time  days_since_last_login  \\\n",
              "0                   ?           Wi-Fi        16:08:02                   17.0   \n",
              "1             Desktop     Mobile_Data        12:38:13                   16.0   \n",
              "2             Desktop           Wi-Fi        22:53:21                   14.0   \n",
              "3             Desktop     Mobile_Data        15:57:50                   11.0   \n",
              "4          Smartphone     Mobile_Data        15:46:44                   20.0   \n",
              "\n",
              "   avg_time_spent  avg_transaction_value avg_frequency_login_days  \\\n",
              "0          300.63               53005.25                     17.0   \n",
              "1          306.34               12838.38                     10.0   \n",
              "2          516.16               21027.00                     22.0   \n",
              "3           53.27               25239.56                      6.0   \n",
              "4          113.13               24483.66                     16.0   \n",
              "\n",
              "   points_in_wallet used_special_discount offer_application_preference  \\\n",
              "0            781.75                   Yes                          Yes   \n",
              "1               NaN                   Yes                           No   \n",
              "2            500.69                    No                          Yes   \n",
              "3            567.66                    No                          Yes   \n",
              "4            663.06                    No                          Yes   \n",
              "\n",
              "  past_complaint     complaint_status                  feedback  \\\n",
              "0             No       Not Applicable  Products always in Stock   \n",
              "1            Yes               Solved     Quality Customer Care   \n",
              "2            Yes  Solved in Follow-up              Poor Website   \n",
              "3            Yes             Unsolved              Poor Website   \n",
              "4            Yes               Solved              Poor Website   \n",
              "\n",
              "   churn_risk_score  \n",
              "0               2.0  \n",
              "1               1.0  \n",
              "2               5.0  \n",
              "3               5.0  \n",
              "4               5.0  "
            ],
            "text/html": [
              "\n",
              "  <div id=\"df-eb94c04f-8edb-4c39-b45c-18ff739965ec\">\n",
              "    <div class=\"colab-df-container\">\n",
              "      <div>\n",
              "<style scoped>\n",
              "    .dataframe tbody tr th:only-of-type {\n",
              "        vertical-align: middle;\n",
              "    }\n",
              "\n",
              "    .dataframe tbody tr th {\n",
              "        vertical-align: top;\n",
              "    }\n",
              "\n",
              "    .dataframe thead th {\n",
              "        text-align: right;\n",
              "    }\n",
              "</style>\n",
              "<table border=\"1\" class=\"dataframe\">\n",
              "  <thead>\n",
              "    <tr style=\"text-align: right;\">\n",
              "      <th></th>\n",
              "      <th>customer_id</th>\n",
              "      <th>Name</th>\n",
              "      <th>age</th>\n",
              "      <th>gender</th>\n",
              "      <th>security_no</th>\n",
              "      <th>region_category</th>\n",
              "      <th>membership_category</th>\n",
              "      <th>joining_date</th>\n",
              "      <th>joined_through_referral</th>\n",
              "      <th>referral_id</th>\n",
              "      <th>preferred_offer_types</th>\n",
              "      <th>medium_of_operation</th>\n",
              "      <th>internet_option</th>\n",
              "      <th>last_visit_time</th>\n",
              "      <th>days_since_last_login</th>\n",
              "      <th>avg_time_spent</th>\n",
              "      <th>avg_transaction_value</th>\n",
              "      <th>avg_frequency_login_days</th>\n",
              "      <th>points_in_wallet</th>\n",
              "      <th>used_special_discount</th>\n",
              "      <th>offer_application_preference</th>\n",
              "      <th>past_complaint</th>\n",
              "      <th>complaint_status</th>\n",
              "      <th>feedback</th>\n",
              "      <th>churn_risk_score</th>\n",
              "    </tr>\n",
              "  </thead>\n",
              "  <tbody>\n",
              "    <tr>\n",
              "      <th>0</th>\n",
              "      <td>fffe4300490044003600300030003800</td>\n",
              "      <td>Pattie Morrisey</td>\n",
              "      <td>18</td>\n",
              "      <td>F</td>\n",
              "      <td>XW0DQ7H</td>\n",
              "      <td>Village</td>\n",
              "      <td>Platinum Membership</td>\n",
              "      <td>2017-08-17</td>\n",
              "      <td>No</td>\n",
              "      <td>xxxxxxxx</td>\n",
              "      <td>Gift Vouchers/Coupons</td>\n",
              "      <td>?</td>\n",
              "      <td>Wi-Fi</td>\n",
              "      <td>16:08:02</td>\n",
              "      <td>17.0</td>\n",
              "      <td>300.63</td>\n",
              "      <td>53005.25</td>\n",
              "      <td>17.0</td>\n",
              "      <td>781.75</td>\n",
              "      <td>Yes</td>\n",
              "      <td>Yes</td>\n",
              "      <td>No</td>\n",
              "      <td>Not Applicable</td>\n",
              "      <td>Products always in Stock</td>\n",
              "      <td>2.0</td>\n",
              "    </tr>\n",
              "    <tr>\n",
              "      <th>1</th>\n",
              "      <td>fffe43004900440032003100300035003700</td>\n",
              "      <td>Traci Peery</td>\n",
              "      <td>32</td>\n",
              "      <td>F</td>\n",
              "      <td>5K0N3X1</td>\n",
              "      <td>City</td>\n",
              "      <td>Premium Membership</td>\n",
              "      <td>2017-08-28</td>\n",
              "      <td>?</td>\n",
              "      <td>CID21329</td>\n",
              "      <td>Gift Vouchers/Coupons</td>\n",
              "      <td>Desktop</td>\n",
              "      <td>Mobile_Data</td>\n",
              "      <td>12:38:13</td>\n",
              "      <td>16.0</td>\n",
              "      <td>306.34</td>\n",
              "      <td>12838.38</td>\n",
              "      <td>10.0</td>\n",
              "      <td>NaN</td>\n",
              "      <td>Yes</td>\n",
              "      <td>No</td>\n",
              "      <td>Yes</td>\n",
              "      <td>Solved</td>\n",
              "      <td>Quality Customer Care</td>\n",
              "      <td>1.0</td>\n",
              "    </tr>\n",
              "    <tr>\n",
              "      <th>2</th>\n",
              "      <td>fffe4300490044003100390032003600</td>\n",
              "      <td>Merideth Mcmeen</td>\n",
              "      <td>44</td>\n",
              "      <td>F</td>\n",
              "      <td>1F2TCL3</td>\n",
              "      <td>Town</td>\n",
              "      <td>No Membership</td>\n",
              "      <td>2016-11-11</td>\n",
              "      <td>Yes</td>\n",
              "      <td>CID12313</td>\n",
              "      <td>Gift Vouchers/Coupons</td>\n",
              "      <td>Desktop</td>\n",
              "      <td>Wi-Fi</td>\n",
              "      <td>22:53:21</td>\n",
              "      <td>14.0</td>\n",
              "      <td>516.16</td>\n",
              "      <td>21027.00</td>\n",
              "      <td>22.0</td>\n",
              "      <td>500.69</td>\n",
              "      <td>No</td>\n",
              "      <td>Yes</td>\n",
              "      <td>Yes</td>\n",
              "      <td>Solved in Follow-up</td>\n",
              "      <td>Poor Website</td>\n",
              "      <td>5.0</td>\n",
              "    </tr>\n",
              "    <tr>\n",
              "      <th>3</th>\n",
              "      <td>fffe43004900440036003000330031003600</td>\n",
              "      <td>Eufemia Cardwell</td>\n",
              "      <td>37</td>\n",
              "      <td>M</td>\n",
              "      <td>VJGJ33N</td>\n",
              "      <td>City</td>\n",
              "      <td>No Membership</td>\n",
              "      <td>2016-10-29</td>\n",
              "      <td>Yes</td>\n",
              "      <td>CID3793</td>\n",
              "      <td>Gift Vouchers/Coupons</td>\n",
              "      <td>Desktop</td>\n",
              "      <td>Mobile_Data</td>\n",
              "      <td>15:57:50</td>\n",
              "      <td>11.0</td>\n",
              "      <td>53.27</td>\n",
              "      <td>25239.56</td>\n",
              "      <td>6.0</td>\n",
              "      <td>567.66</td>\n",
              "      <td>No</td>\n",
              "      <td>Yes</td>\n",
              "      <td>Yes</td>\n",
              "      <td>Unsolved</td>\n",
              "      <td>Poor Website</td>\n",
              "      <td>5.0</td>\n",
              "    </tr>\n",
              "    <tr>\n",
              "      <th>4</th>\n",
              "      <td>fffe43004900440031003900350030003600</td>\n",
              "      <td>Meghan Kosak</td>\n",
              "      <td>31</td>\n",
              "      <td>F</td>\n",
              "      <td>SVZXCWB</td>\n",
              "      <td>City</td>\n",
              "      <td>No Membership</td>\n",
              "      <td>2017-09-12</td>\n",
              "      <td>No</td>\n",
              "      <td>xxxxxxxx</td>\n",
              "      <td>Credit/Debit Card Offers</td>\n",
              "      <td>Smartphone</td>\n",
              "      <td>Mobile_Data</td>\n",
              "      <td>15:46:44</td>\n",
              "      <td>20.0</td>\n",
              "      <td>113.13</td>\n",
              "      <td>24483.66</td>\n",
              "      <td>16.0</td>\n",
              "      <td>663.06</td>\n",
              "      <td>No</td>\n",
              "      <td>Yes</td>\n",
              "      <td>Yes</td>\n",
              "      <td>Solved</td>\n",
              "      <td>Poor Website</td>\n",
              "      <td>5.0</td>\n",
              "    </tr>\n",
              "  </tbody>\n",
              "</table>\n",
              "</div>\n",
              "      <button class=\"colab-df-convert\" onclick=\"convertToInteractive('df-eb94c04f-8edb-4c39-b45c-18ff739965ec')\"\n",
              "              title=\"Convert this dataframe to an interactive table.\"\n",
              "              style=\"display:none;\">\n",
              "        \n",
              "  <svg xmlns=\"http://www.w3.org/2000/svg\" height=\"24px\"viewBox=\"0 0 24 24\"\n",
              "       width=\"24px\">\n",
              "    <path d=\"M0 0h24v24H0V0z\" fill=\"none\"/>\n",
              "    <path d=\"M18.56 5.44l.94 2.06.94-2.06 2.06-.94-2.06-.94-.94-2.06-.94 2.06-2.06.94zm-11 1L8.5 8.5l.94-2.06 2.06-.94-2.06-.94L8.5 2.5l-.94 2.06-2.06.94zm10 10l.94 2.06.94-2.06 2.06-.94-2.06-.94-.94-2.06-.94 2.06-2.06.94z\"/><path d=\"M17.41 7.96l-1.37-1.37c-.4-.4-.92-.59-1.43-.59-.52 0-1.04.2-1.43.59L10.3 9.45l-7.72 7.72c-.78.78-.78 2.05 0 2.83L4 21.41c.39.39.9.59 1.41.59.51 0 1.02-.2 1.41-.59l7.78-7.78 2.81-2.81c.8-.78.8-2.07 0-2.86zM5.41 20L4 18.59l7.72-7.72 1.47 1.35L5.41 20z\"/>\n",
              "  </svg>\n",
              "      </button>\n",
              "      \n",
              "  <style>\n",
              "    .colab-df-container {\n",
              "      display:flex;\n",
              "      flex-wrap:wrap;\n",
              "      gap: 12px;\n",
              "    }\n",
              "\n",
              "    .colab-df-convert {\n",
              "      background-color: #E8F0FE;\n",
              "      border: none;\n",
              "      border-radius: 50%;\n",
              "      cursor: pointer;\n",
              "      display: none;\n",
              "      fill: #1967D2;\n",
              "      height: 32px;\n",
              "      padding: 0 0 0 0;\n",
              "      width: 32px;\n",
              "    }\n",
              "\n",
              "    .colab-df-convert:hover {\n",
              "      background-color: #E2EBFA;\n",
              "      box-shadow: 0px 1px 2px rgba(60, 64, 67, 0.3), 0px 1px 3px 1px rgba(60, 64, 67, 0.15);\n",
              "      fill: #174EA6;\n",
              "    }\n",
              "\n",
              "    [theme=dark] .colab-df-convert {\n",
              "      background-color: #3B4455;\n",
              "      fill: #D2E3FC;\n",
              "    }\n",
              "\n",
              "    [theme=dark] .colab-df-convert:hover {\n",
              "      background-color: #434B5C;\n",
              "      box-shadow: 0px 1px 3px 1px rgba(0, 0, 0, 0.15);\n",
              "      filter: drop-shadow(0px 1px 2px rgba(0, 0, 0, 0.3));\n",
              "      fill: #FFFFFF;\n",
              "    }\n",
              "  </style>\n",
              "\n",
              "      <script>\n",
              "        const buttonEl =\n",
              "          document.querySelector('#df-eb94c04f-8edb-4c39-b45c-18ff739965ec button.colab-df-convert');\n",
              "        buttonEl.style.display =\n",
              "          google.colab.kernel.accessAllowed ? 'block' : 'none';\n",
              "\n",
              "        async function convertToInteractive(key) {\n",
              "          const element = document.querySelector('#df-eb94c04f-8edb-4c39-b45c-18ff739965ec');\n",
              "          const dataTable =\n",
              "            await google.colab.kernel.invokeFunction('convertToInteractive',\n",
              "                                                     [key], {});\n",
              "          if (!dataTable) return;\n",
              "\n",
              "          const docLinkHtml = 'Like what you see? Visit the ' +\n",
              "            '<a target=\"_blank\" href=https://colab.research.google.com/notebooks/data_table.ipynb>data table notebook</a>'\n",
              "            + ' to learn more about interactive tables.';\n",
              "          element.innerHTML = '';\n",
              "          dataTable['output_type'] = 'display_data';\n",
              "          await google.colab.output.renderOutput(dataTable, element);\n",
              "          const docLink = document.createElement('div');\n",
              "          docLink.innerHTML = docLinkHtml;\n",
              "          element.appendChild(docLink);\n",
              "        }\n",
              "      </script>\n",
              "    </div>\n",
              "  </div>\n",
              "  "
            ]
          },
          "metadata": {},
          "execution_count": 4
        }
      ]
    },
    {
      "cell_type": "code",
      "source": [
        "churn_df.info()"
      ],
      "metadata": {
        "colab": {
          "base_uri": "https://localhost:8080/"
        },
        "id": "D28zK_vYRE28",
        "outputId": "071d2df3-98bb-405d-98bb-91598ab8f32e"
      },
      "execution_count": 5,
      "outputs": [
        {
          "output_type": "stream",
          "name": "stdout",
          "text": [
            "<class 'pandas.core.frame.DataFrame'>\n",
            "RangeIndex: 13368 entries, 0 to 13367\n",
            "Data columns (total 25 columns):\n",
            " #   Column                        Non-Null Count  Dtype  \n",
            "---  ------                        --------------  -----  \n",
            " 0   customer_id                   13368 non-null  object \n",
            " 1   Name                          13368 non-null  object \n",
            " 2   age                           13368 non-null  int64  \n",
            " 3   gender                        13368 non-null  object \n",
            " 4   security_no                   13368 non-null  object \n",
            " 5   region_category               11357 non-null  object \n",
            " 6   membership_category           13367 non-null  object \n",
            " 7   joining_date                  13367 non-null  object \n",
            " 8   joined_through_referral       13367 non-null  object \n",
            " 9   referral_id                   13367 non-null  object \n",
            " 10  preferred_offer_types         13271 non-null  object \n",
            " 11  medium_of_operation           13367 non-null  object \n",
            " 12  internet_option               13367 non-null  object \n",
            " 13  last_visit_time               13367 non-null  object \n",
            " 14  days_since_last_login         13367 non-null  float64\n",
            " 15  avg_time_spent                13367 non-null  float64\n",
            " 16  avg_transaction_value         13367 non-null  float64\n",
            " 17  avg_frequency_login_days      13367 non-null  object \n",
            " 18  points_in_wallet              12142 non-null  float64\n",
            " 19  used_special_discount         13367 non-null  object \n",
            " 20  offer_application_preference  13367 non-null  object \n",
            " 21  past_complaint                13367 non-null  object \n",
            " 22  complaint_status              13367 non-null  object \n",
            " 23  feedback                      13367 non-null  object \n",
            " 24  churn_risk_score              13367 non-null  float64\n",
            "dtypes: float64(5), int64(1), object(19)\n",
            "memory usage: 2.5+ MB\n"
          ]
        }
      ]
    },
    {
      "cell_type": "code",
      "source": [
        "churn_df.isnull().sum()"
      ],
      "metadata": {
        "colab": {
          "base_uri": "https://localhost:8080/"
        },
        "id": "OuwptFtCRGYi",
        "outputId": "d37a8a17-5070-42bf-d63b-70b8780f4b91"
      },
      "execution_count": 6,
      "outputs": [
        {
          "output_type": "execute_result",
          "data": {
            "text/plain": [
              "customer_id                        0\n",
              "Name                               0\n",
              "age                                0\n",
              "gender                             0\n",
              "security_no                        0\n",
              "region_category                 2011\n",
              "membership_category                1\n",
              "joining_date                       1\n",
              "joined_through_referral            1\n",
              "referral_id                        1\n",
              "preferred_offer_types             97\n",
              "medium_of_operation                1\n",
              "internet_option                    1\n",
              "last_visit_time                    1\n",
              "days_since_last_login              1\n",
              "avg_time_spent                     1\n",
              "avg_transaction_value              1\n",
              "avg_frequency_login_days           1\n",
              "points_in_wallet                1226\n",
              "used_special_discount              1\n",
              "offer_application_preference       1\n",
              "past_complaint                     1\n",
              "complaint_status                   1\n",
              "feedback                           1\n",
              "churn_risk_score                   1\n",
              "dtype: int64"
            ]
          },
          "metadata": {},
          "execution_count": 6
        }
      ]
    },
    {
      "cell_type": "code",
      "source": [
        "binary_cols = []\n",
        "for col in churn_df.columns:\n",
        "    if churn_df[col].value_counts().shape[0] == 2:\n",
        "        binary_cols.append(col)"
      ],
      "metadata": {
        "id": "vz6Q_wgOYEGG"
      },
      "execution_count": 7,
      "outputs": []
    },
    {
      "cell_type": "code",
      "source": [
        "binary_cols"
      ],
      "metadata": {
        "colab": {
          "base_uri": "https://localhost:8080/"
        },
        "id": "igxoQr_5OeA3",
        "outputId": "51cc2cb6-ea4b-40c2-bd51-0c9073f5e41d"
      },
      "execution_count": 8,
      "outputs": [
        {
          "output_type": "execute_result",
          "data": {
            "text/plain": [
              "['used_special_discount', 'offer_application_preference', 'past_complaint']"
            ]
          },
          "metadata": {},
          "execution_count": 8
        }
      ]
    },
    {
      "cell_type": "code",
      "source": [
        "sns.countplot(\"used_special_discount\", data=churn_df)"
      ],
      "metadata": {
        "colab": {
          "base_uri": "https://localhost:8080/",
          "height": 352
        },
        "id": "DEFEozFaOLz3",
        "outputId": "79ebd659-8602-4c5d-df25-e4d47aa270c3"
      },
      "execution_count": 9,
      "outputs": [
        {
          "output_type": "stream",
          "name": "stderr",
          "text": [
            "/usr/local/lib/python3.7/dist-packages/seaborn/_decorators.py:43: FutureWarning: Pass the following variable as a keyword arg: x. From version 0.12, the only valid positional argument will be `data`, and passing other arguments without an explicit keyword will result in an error or misinterpretation.\n",
            "  FutureWarning\n"
          ]
        },
        {
          "output_type": "execute_result",
          "data": {
            "text/plain": [
              "<matplotlib.axes._subplots.AxesSubplot at 0x7fe2fba750d0>"
            ]
          },
          "metadata": {},
          "execution_count": 9
        },
        {
          "output_type": "display_data",
          "data": {
            "text/plain": [
              "<Figure size 432x288 with 1 Axes>"
            ],
            "image/png": "[encoded data removed]"
          },
          "metadata": {
            "needs_background": "light"
          }
        }
      ]
    },
    {
      "cell_type": "code",
      "source": [
        "sns.countplot(\"offer_application_preference\", data=churn_df)"
      ],
      "metadata": {
        "colab": {
          "base_uri": "https://localhost:8080/",
          "height": 352
        },
        "id": "yc-gdaFuOWdl",
        "outputId": "14c81a1d-77d4-42c4-a279-9ab018a37585"
      },
      "execution_count": 10,
      "outputs": [
        {
          "output_type": "stream",
          "name": "stderr",
          "text": [
            "/usr/local/lib/python3.7/dist-packages/seaborn/_decorators.py:43: FutureWarning: Pass the following variable as a keyword arg: x. From version 0.12, the only valid positional argument will be `data`, and passing other arguments without an explicit keyword will result in an error or misinterpretation.\n",
            "  FutureWarning\n"
          ]
        },
        {
          "output_type": "execute_result",
          "data": {
            "text/plain": [
              "<matplotlib.axes._subplots.AxesSubplot at 0x7fe2fb96ef90>"
            ]
          },
          "metadata": {},
          "execution_count": 10
        },
        {
          "output_type": "display_data",
          "data": {
            "text/plain": [
              "<Figure size 432x288 with 1 Axes>"
            ],
            "image/png": "[encoded data removed]"
          },
          "metadata": {
            "needs_background": "light"
          }
        }
      ]
    },
    {
      "cell_type": "code",
      "source": [
        "sns.countplot(\"past_complaint\", data=churn_df)"
      ],
      "metadata": {
        "colab": {
          "base_uri": "https://localhost:8080/",
          "height": 354
        },
        "id": "w29YLs1lYECv",
        "outputId": "3b6567b1-733e-42bd-cdea-84ba50cb6845"
      },
      "execution_count": 11,
      "outputs": [
        {
          "output_type": "stream",
          "name": "stderr",
          "text": [
            "/usr/local/lib/python3.7/dist-packages/seaborn/_decorators.py:43: FutureWarning: Pass the following variable as a keyword arg: x. From version 0.12, the only valid positional argument will be `data`, and passing other arguments without an explicit keyword will result in an error or misinterpretation.\n",
            "  FutureWarning\n"
          ]
        },
        {
          "output_type": "execute_result",
          "data": {
            "text/plain": [
              "<matplotlib.axes._subplots.AxesSubplot at 0x7fe2fdf5b2d0>"
            ]
          },
          "metadata": {},
          "execution_count": 11
        },
        {
          "output_type": "display_data",
          "data": {
            "text/plain": [
              "<Figure size 432x288 with 1 Axes>"
            ],
            "image/png": "[encoded data removed]"
          },
          "metadata": {
            "needs_background": "light"
          }
        }
      ]
    },
    {
      "cell_type": "code",
      "source": [
        "sns.countplot(\"internet_option\", data=churn_df)"
      ],
      "metadata": {
        "colab": {
          "base_uri": "https://localhost:8080/",
          "height": 353
        },
        "id": "M_QFPEWAYD_G",
        "outputId": "9ee71285-2d07-4ad2-fb6a-0fa0d353d4f6"
      },
      "execution_count": 12,
      "outputs": [
        {
          "output_type": "stream",
          "name": "stderr",
          "text": [
            "/usr/local/lib/python3.7/dist-packages/seaborn/_decorators.py:43: FutureWarning: Pass the following variable as a keyword arg: x. From version 0.12, the only valid positional argument will be `data`, and passing other arguments without an explicit keyword will result in an error or misinterpretation.\n",
            "  FutureWarning\n"
          ]
        },
        {
          "output_type": "execute_result",
          "data": {
            "text/plain": [
              "<matplotlib.axes._subplots.AxesSubplot at 0x7fe2fb401150>"
            ]
          },
          "metadata": {},
          "execution_count": 12
        },
        {
          "output_type": "display_data",
          "data": {
            "text/plain": [
              "<Figure size 432x288 with 1 Axes>"
            ],
            "image/png": "[encoded data removed]"
          },
          "metadata": {
            "needs_background": "light"
          }
        }
      ]
    },
    {
      "cell_type": "code",
      "source": [
        "sns.countplot(\"medium_of_operation\", data=churn_df)"
      ],
      "metadata": {
        "colab": {
          "base_uri": "https://localhost:8080/",
          "height": 352
        },
        "id": "wblmchZbVB1D",
        "outputId": "210347ce-1292-42a5-d851-3a264407a4a6"
      },
      "execution_count": 13,
      "outputs": [
        {
          "output_type": "stream",
          "name": "stderr",
          "text": [
            "/usr/local/lib/python3.7/dist-packages/seaborn/_decorators.py:43: FutureWarning: Pass the following variable as a keyword arg: x. From version 0.12, the only valid positional argument will be `data`, and passing other arguments without an explicit keyword will result in an error or misinterpretation.\n",
            "  FutureWarning\n"
          ]
        },
        {
          "output_type": "execute_result",
          "data": {
            "text/plain": [
              "<matplotlib.axes._subplots.AxesSubplot at 0x7fe2fb3cb790>"
            ]
          },
          "metadata": {},
          "execution_count": 13
        },
        {
          "output_type": "display_data",
          "data": {
            "text/plain": [
              "<Figure size 432x288 with 1 Axes>"
            ],
            "image/png": "[encoded data removed]"
          },
          "metadata": {
            "needs_background": "light"
          }
        }
      ]
    },
    {
      "cell_type": "code",
      "source": [
        "sns.countplot(\"membership_category\", data=churn_df)\n",
        "plt.xticks(rotation=90)"
      ],
      "metadata": {
        "colab": {
          "base_uri": "https://localhost:8080/",
          "height": 451
        },
        "id": "YJvW0lNzRLsB",
        "outputId": "09b4cdfb-9393-4371-d069-f09aee1e54f4"
      },
      "execution_count": 72,
      "outputs": [
        {
          "output_type": "stream",
          "name": "stderr",
          "text": [
            "/usr/local/lib/python3.7/dist-packages/seaborn/_decorators.py:43: FutureWarning: Pass the following variable as a keyword arg: x. From version 0.12, the only valid positional argument will be `data`, and passing other arguments without an explicit keyword will result in an error or misinterpretation.\n",
            "  FutureWarning\n"
          ]
        },
        {
          "output_type": "execute_result",
          "data": {
            "text/plain": [
              "(array([0, 1, 2, 3, 4, 5]), <a list of 6 Text major ticklabel objects>)"
            ]
          },
          "metadata": {},
          "execution_count": 72
        },
        {
          "output_type": "display_data",
          "data": {
            "text/plain": [
              "<Figure size 432x288 with 1 Axes>"
            ],
            "image/png": "[encoded data removed]"
          },
          "metadata": {
            "needs_background": "light"
          }
        }
      ]
    },
    {
      "cell_type": "code",
      "source": [
        "sns.countplot(\"preferred_offer_types\", data=churn_df)\n",
        "plt.xticks(rotation=90)"
      ],
      "metadata": {
        "colab": {
          "base_uri": "https://localhost:8080/",
          "height": 463
        },
        "id": "3xqy0lZoRRX6",
        "outputId": "493424c8-d66b-494b-d888-01eba2c8ca79"
      },
      "execution_count": 75,
      "outputs": [
        {
          "output_type": "stream",
          "name": "stderr",
          "text": [
            "/usr/local/lib/python3.7/dist-packages/seaborn/_decorators.py:43: FutureWarning: Pass the following variable as a keyword arg: x. From version 0.12, the only valid positional argument will be `data`, and passing other arguments without an explicit keyword will result in an error or misinterpretation.\n",
            "  FutureWarning\n"
          ]
        },
        {
          "output_type": "execute_result",
          "data": {
            "text/plain": [
              "(array([0, 1, 2]), <a list of 3 Text major ticklabel objects>)"
            ]
          },
          "metadata": {},
          "execution_count": 75
        },
        {
          "output_type": "display_data",
          "data": {
            "text/plain": [
              "<Figure size 432x288 with 1 Axes>"
            ],
            "image/png": "[encoded data removed]"
          },
          "metadata": {
            "needs_background": "light"
          }
        }
      ]
    },
    {
      "cell_type": "code",
      "source": [
        "fig, axes = plt.subplots(2, 2, figsize=(12, 7), sharey=True)\n",
        "sns.countplot(\"gender\", data=churn_df, ax=axes[0,0])\n",
        "sns.countplot(\"region_category\", data=churn_df, ax=axes[0,1])\n",
        "sns.countplot(\"used_special_discount\", data=churn_df, ax=axes[1,0])"
      ],
      "metadata": {
        "colab": {
          "base_uri": "https://localhost:8080/",
          "height": 584
        },
        "id": "jK5yn9BIYDq8",
        "outputId": "f83622cb-9169-4962-db73-3a462ad14a8a"
      },
      "execution_count": 78,
      "outputs": [
        {
          "output_type": "stream",
          "name": "stderr",
          "text": [
            "/usr/local/lib/python3.7/dist-packages/seaborn/_decorators.py:43: FutureWarning: Pass the following variable as a keyword arg: x. From version 0.12, the only valid positional argument will be `data`, and passing other arguments without an explicit keyword will result in an error or misinterpretation.\n",
            "  FutureWarning\n",
            "/usr/local/lib/python3.7/dist-packages/seaborn/_decorators.py:43: FutureWarning: Pass the following variable as a keyword arg: x. From version 0.12, the only valid positional argument will be `data`, and passing other arguments without an explicit keyword will result in an error or misinterpretation.\n",
            "  FutureWarning\n",
            "/usr/local/lib/python3.7/dist-packages/seaborn/_decorators.py:43: FutureWarning: Pass the following variable as a keyword arg: x. From version 0.12, the only valid positional argument will be `data`, and passing other arguments without an explicit keyword will result in an error or misinterpretation.\n",
            "  FutureWarning\n"
          ]
        },
        {
          "output_type": "execute_result",
          "data": {
            "text/plain": [
              "<matplotlib.axes._subplots.AxesSubplot at 0x7fe2f9fde1d0>"
            ]
          },
          "metadata": {},
          "execution_count": 78
        },
        {
          "output_type": "display_data",
          "data": {
            "text/plain": [
              "<Figure size 864x504 with 4 Axes>"
            ],
            "image/png": "[encoded data removed]"
          },
          "metadata": {
            "needs_background": "light"
          }
        }
      ]
    },
    {
      "cell_type": "code",
      "source": [
        "churn_df.boxplot(column=['days_since_last_login', 'avg_time_spent', 'avg_transaction_value', 'points_in_wallet'])\n",
        "plt.xticks(rotation=90)"
      ],
      "metadata": {
        "colab": {
          "base_uri": "https://localhost:8080/",
          "height": 385
        },
        "id": "ftzXXhHemkrR",
        "outputId": "1266d5f6-0573-4a97-84a3-f39a58d8be8f"
      },
      "execution_count": 68,
      "outputs": [
        {
          "output_type": "execute_result",
          "data": {
            "text/plain": [
              "(array([1, 2, 3, 4]), <a list of 4 Text major ticklabel objects>)"
            ]
          },
          "metadata": {},
          "execution_count": 68
        },
        {
          "output_type": "display_data",
          "data": {
            "text/plain": [
              "<Figure size 432x288 with 1 Axes>"
            ],
            "image/png": "[encoded data removed]"
          },
          "metadata": {
            "needs_background": "light"
          }
        }
      ]
    },
    {
      "cell_type": "code",
      "source": [
        "churn_df[['days_since_last_login', 'avg_time_spent', 'avg_transaction_value',\n",
        "         'avg_frequency_login_days', 'points_in_wallet']].corr()"
      ],
      "metadata": {
        "colab": {
          "base_uri": "https://localhost:8080/",
          "height": 175
        },
        "id": "02p57vaAYDoY",
        "outputId": "85e12477-41d6-46e9-d2ff-528cfda6b164"
      },
      "execution_count": 66,
      "outputs": [
        {
          "output_type": "execute_result",
          "data": {
            "text/plain": [
              "                       days_since_last_login  avg_time_spent  \\\n",
              "days_since_last_login               1.000000       -0.006080   \n",
              "avg_time_spent                     -0.006080        1.000000   \n",
              "avg_transaction_value               0.002906        0.023341   \n",
              "points_in_wallet                    0.007991       -0.014205   \n",
              "\n",
              "                       avg_transaction_value  points_in_wallet  \n",
              "days_since_last_login               0.002906          0.007991  \n",
              "avg_time_spent                      0.023341         -0.014205  \n",
              "avg_transaction_value               1.000000          0.087232  \n",
              "points_in_wallet                    0.087232          1.000000  "
            ],
            "text/html": [
              "\n",
              "  <div id=\"df-8f2ec319-5107-43f2-a7db-efda45b97374\">\n",
              "    <div class=\"colab-df-container\">\n",
              "      <div>\n",
              "<style scoped>\n",
              "    .dataframe tbody tr th:only-of-type {\n",
              "        vertical-align: middle;\n",
              "    }\n",
              "\n",
              "    .dataframe tbody tr th {\n",
              "        vertical-align: top;\n",
              "    }\n",
              "\n",
              "    .dataframe thead th {\n",
              "        text-align: right;\n",
              "    }\n",
              "</style>\n",
              "<table border=\"1\" class=\"dataframe\">\n",
              "  <thead>\n",
              "    <tr style=\"text-align: right;\">\n",
              "      <th></th>\n",
              "      <th>days_since_last_login</th>\n",
              "      <th>avg_time_spent</th>\n",
              "      <th>avg_transaction_value</th>\n",
              "      <th>points_in_wallet</th>\n",
              "    </tr>\n",
              "  </thead>\n",
              "  <tbody>\n",
              "    <tr>\n",
              "      <th>days_since_last_login</th>\n",
              "      <td>1.000000</td>\n",
              "      <td>-0.006080</td>\n",
              "      <td>0.002906</td>\n",
              "      <td>0.007991</td>\n",
              "    </tr>\n",
              "    <tr>\n",
              "      <th>avg_time_spent</th>\n",
              "      <td>-0.006080</td>\n",
              "      <td>1.000000</td>\n",
              "      <td>0.023341</td>\n",
              "      <td>-0.014205</td>\n",
              "    </tr>\n",
              "    <tr>\n",
              "      <th>avg_transaction_value</th>\n",
              "      <td>0.002906</td>\n",
              "      <td>0.023341</td>\n",
              "      <td>1.000000</td>\n",
              "      <td>0.087232</td>\n",
              "    </tr>\n",
              "    <tr>\n",
              "      <th>points_in_wallet</th>\n",
              "      <td>0.007991</td>\n",
              "      <td>-0.014205</td>\n",
              "      <td>0.087232</td>\n",
              "      <td>1.000000</td>\n",
              "    </tr>\n",
              "  </tbody>\n",
              "</table>\n",
              "</div>\n",
              "      <button class=\"colab-df-convert\" onclick=\"convertToInteractive('df-8f2ec319-5107-43f2-a7db-efda45b97374')\"\n",
              "              title=\"Convert this dataframe to an interactive table.\"\n",
              "              style=\"display:none;\">\n",
              "        \n",
              "  <svg xmlns=\"http://www.w3.org/2000/svg\" height=\"24px\"viewBox=\"0 0 24 24\"\n",
              "       width=\"24px\">\n",
              "    <path d=\"M0 0h24v24H0V0z\" fill=\"none\"/>\n",
              "    <path d=\"M18.56 5.44l.94 2.06.94-2.06 2.06-.94-2.06-.94-.94-2.06-.94 2.06-2.06.94zm-11 1L8.5 8.5l.94-2.06 2.06-.94-2.06-.94L8.5 2.5l-.94 2.06-2.06.94zm10 10l.94 2.06.94-2.06 2.06-.94-2.06-.94-.94-2.06-.94 2.06-2.06.94z\"/><path d=\"M17.41 7.96l-1.37-1.37c-.4-.4-.92-.59-1.43-.59-.52 0-1.04.2-1.43.59L10.3 9.45l-7.72 7.72c-.78.78-.78 2.05 0 2.83L4 21.41c.39.39.9.59 1.41.59.51 0 1.02-.2 1.41-.59l7.78-7.78 2.81-2.81c.8-.78.8-2.07 0-2.86zM5.41 20L4 18.59l7.72-7.72 1.47 1.35L5.41 20z\"/>\n",
              "  </svg>\n",
              "      </button>\n",
              "      \n",
              "  <style>\n",
              "    .colab-df-container {\n",
              "      display:flex;\n",
              "      flex-wrap:wrap;\n",
              "      gap: 12px;\n",
              "    }\n",
              "\n",
              "    .colab-df-convert {\n",
              "      background-color: #E8F0FE;\n",
              "      border: none;\n",
              "      border-radius: 50%;\n",
              "      cursor: pointer;\n",
              "      display: none;\n",
              "      fill: #1967D2;\n",
              "      height: 32px;\n",
              "      padding: 0 0 0 0;\n",
              "      width: 32px;\n",
              "    }\n",
              "\n",
              "    .colab-df-convert:hover {\n",
              "      background-color: #E2EBFA;\n",
              "      box-shadow: 0px 1px 2px rgba(60, 64, 67, 0.3), 0px 1px 3px 1px rgba(60, 64, 67, 0.15);\n",
              "      fill: #174EA6;\n",
              "    }\n",
              "\n",
              "    [theme=dark] .colab-df-convert {\n",
              "      background-color: #3B4455;\n",
              "      fill: #D2E3FC;\n",
              "    }\n",
              "\n",
              "    [theme=dark] .colab-df-convert:hover {\n",
              "      background-color: #434B5C;\n",
              "      box-shadow: 0px 1px 3px 1px rgba(0, 0, 0, 0.15);\n",
              "      filter: drop-shadow(0px 1px 2px rgba(0, 0, 0, 0.3));\n",
              "      fill: #FFFFFF;\n",
              "    }\n",
              "  </style>\n",
              "\n",
              "      <script>\n",
              "        const buttonEl =\n",
              "          document.querySelector('#df-8f2ec319-5107-43f2-a7db-efda45b97374 button.colab-df-convert');\n",
              "        buttonEl.style.display =\n",
              "          google.colab.kernel.accessAllowed ? 'block' : 'none';\n",
              "\n",
              "        async function convertToInteractive(key) {\n",
              "          const element = document.querySelector('#df-8f2ec319-5107-43f2-a7db-efda45b97374');\n",
              "          const dataTable =\n",
              "            await google.colab.kernel.invokeFunction('convertToInteractive',\n",
              "                                                     [key], {});\n",
              "          if (!dataTable) return;\n",
              "\n",
              "          const docLinkHtml = 'Like what you see? Visit the ' +\n",
              "            '<a target=\"_blank\" href=https://colab.research.google.com/notebooks/data_table.ipynb>data table notebook</a>'\n",
              "            + ' to learn more about interactive tables.';\n",
              "          element.innerHTML = '';\n",
              "          dataTable['output_type'] = 'display_data';\n",
              "          await google.colab.output.renderOutput(dataTable, element);\n",
              "          const docLink = document.createElement('div');\n",
              "          docLink.innerHTML = docLinkHtml;\n",
              "          element.appendChild(docLink);\n",
              "        }\n",
              "      </script>\n",
              "    </div>\n",
              "  </div>\n",
              "  "
            ]
          },
          "metadata": {},
          "execution_count": 66
        }
      ]
    },
    {
      "cell_type": "code",
      "source": [
        "churn_df[['region_category', 'preferred_offer_types', 'points_in_wallet']].head(10)"
      ],
      "metadata": {
        "colab": {
          "base_uri": "https://localhost:8080/",
          "height": 363
        },
        "id": "ZlOkqHC_RQQR",
        "outputId": "ce881bd0-9792-4590-b5ce-85101bdcc746"
      },
      "execution_count": 67,
      "outputs": [
        {
          "output_type": "execute_result",
          "data": {
            "text/plain": [
              "   region_category     preferred_offer_types  points_in_wallet\n",
              "0          Village     Gift Vouchers/Coupons            781.75\n",
              "2             Town     Gift Vouchers/Coupons            500.69\n",
              "3             City     Gift Vouchers/Coupons            567.66\n",
              "4             City  Credit/Debit Card Offers            663.06\n",
              "5             City     Gift Vouchers/Coupons            722.27\n",
              "6             Town     Gift Vouchers/Coupons            756.21\n",
              "7              NaN  Credit/Debit Card Offers            568.08\n",
              "9             Town     Gift Vouchers/Coupons            706.23\n",
              "10         Village     Gift Vouchers/Coupons            699.70\n",
              "11            City     Gift Vouchers/Coupons            798.12"
            ],
            "text/html": [
              "\n",
              "  <div id=\"df-9aebb33f-4123-4982-9503-49c03fcafbfd\">\n",
              "    <div class=\"colab-df-container\">\n",
              "      <div>\n",
              "<style scoped>\n",
              "    .dataframe tbody tr th:only-of-type {\n",
              "        vertical-align: middle;\n",
              "    }\n",
              "\n",
              "    .dataframe tbody tr th {\n",
              "        vertical-align: top;\n",
              "    }\n",
              "\n",
              "    .dataframe thead th {\n",
              "        text-align: right;\n",
              "    }\n",
              "</style>\n",
              "<table border=\"1\" class=\"dataframe\">\n",
              "  <thead>\n",
              "    <tr style=\"text-align: right;\">\n",
              "      <th></th>\n",
              "      <th>region_category</th>\n",
              "      <th>preferred_offer_types</th>\n",
              "      <th>points_in_wallet</th>\n",
              "    </tr>\n",
              "  </thead>\n",
              "  <tbody>\n",
              "    <tr>\n",
              "      <th>0</th>\n",
              "      <td>Village</td>\n",
              "      <td>Gift Vouchers/Coupons</td>\n",
              "      <td>781.75</td>\n",
              "    </tr>\n",
              "    <tr>\n",
              "      <th>2</th>\n",
              "      <td>Town</td>\n",
              "      <td>Gift Vouchers/Coupons</td>\n",
              "      <td>500.69</td>\n",
              "    </tr>\n",
              "    <tr>\n",
              "      <th>3</th>\n",
              "      <td>City</td>\n",
              "      <td>Gift Vouchers/Coupons</td>\n",
              "      <td>567.66</td>\n",
              "    </tr>\n",
              "    <tr>\n",
              "      <th>4</th>\n",
              "      <td>City</td>\n",
              "      <td>Credit/Debit Card Offers</td>\n",
              "      <td>663.06</td>\n",
              "    </tr>\n",
              "    <tr>\n",
              "      <th>5</th>\n",
              "      <td>City</td>\n",
              "      <td>Gift Vouchers/Coupons</td>\n",
              "      <td>722.27</td>\n",
              "    </tr>\n",
              "    <tr>\n",
              "      <th>6</th>\n",
              "      <td>Town</td>\n",
              "      <td>Gift Vouchers/Coupons</td>\n",
              "      <td>756.21</td>\n",
              "    </tr>\n",
              "    <tr>\n",
              "      <th>7</th>\n",
              "      <td>NaN</td>\n",
              "      <td>Credit/Debit Card Offers</td>\n",
              "      <td>568.08</td>\n",
              "    </tr>\n",
              "    <tr>\n",
              "      <th>9</th>\n",
              "      <td>Town</td>\n",
              "      <td>Gift Vouchers/Coupons</td>\n",
              "      <td>706.23</td>\n",
              "    </tr>\n",
              "    <tr>\n",
              "      <th>10</th>\n",
              "      <td>Village</td>\n",
              "      <td>Gift Vouchers/Coupons</td>\n",
              "      <td>699.70</td>\n",
              "    </tr>\n",
              "    <tr>\n",
              "      <th>11</th>\n",
              "      <td>City</td>\n",
              "      <td>Gift Vouchers/Coupons</td>\n",
              "      <td>798.12</td>\n",
              "    </tr>\n",
              "  </tbody>\n",
              "</table>\n",
              "</div>\n",
              "      <button class=\"colab-df-convert\" onclick=\"convertToInteractive('df-9aebb33f-4123-4982-9503-49c03fcafbfd')\"\n",
              "              title=\"Convert this dataframe to an interactive table.\"\n",
              "              style=\"display:none;\">\n",
              "        \n",
              "  <svg xmlns=\"http://www.w3.org/2000/svg\" height=\"24px\"viewBox=\"0 0 24 24\"\n",
              "       width=\"24px\">\n",
              "    <path d=\"M0 0h24v24H0V0z\" fill=\"none\"/>\n",
              "    <path d=\"M18.56 5.44l.94 2.06.94-2.06 2.06-.94-2.06-.94-.94-2.06-.94 2.06-2.06.94zm-11 1L8.5 8.5l.94-2.06 2.06-.94-2.06-.94L8.5 2.5l-.94 2.06-2.06.94zm10 10l.94 2.06.94-2.06 2.06-.94-2.06-.94-.94-2.06-.94 2.06-2.06.94z\"/><path d=\"M17.41 7.96l-1.37-1.37c-.4-.4-.92-.59-1.43-.59-.52 0-1.04.2-1.43.59L10.3 9.45l-7.72 7.72c-.78.78-.78 2.05 0 2.83L4 21.41c.39.39.9.59 1.41.59.51 0 1.02-.2 1.41-.59l7.78-7.78 2.81-2.81c.8-.78.8-2.07 0-2.86zM5.41 20L4 18.59l7.72-7.72 1.47 1.35L5.41 20z\"/>\n",
              "  </svg>\n",
              "      </button>\n",
              "      \n",
              "  <style>\n",
              "    .colab-df-container {\n",
              "      display:flex;\n",
              "      flex-wrap:wrap;\n",
              "      gap: 12px;\n",
              "    }\n",
              "\n",
              "    .colab-df-convert {\n",
              "      background-color: #E8F0FE;\n",
              "      border: none;\n",
              "      border-radius: 50%;\n",
              "      cursor: pointer;\n",
              "      display: none;\n",
              "      fill: #1967D2;\n",
              "      height: 32px;\n",
              "      padding: 0 0 0 0;\n",
              "      width: 32px;\n",
              "    }\n",
              "\n",
              "    .colab-df-convert:hover {\n",
              "      background-color: #E2EBFA;\n",
              "      box-shadow: 0px 1px 2px rgba(60, 64, 67, 0.3), 0px 1px 3px 1px rgba(60, 64, 67, 0.15);\n",
              "      fill: #174EA6;\n",
              "    }\n",
              "\n",
              "    [theme=dark] .colab-df-convert {\n",
              "      background-color: #3B4455;\n",
              "      fill: #D2E3FC;\n",
              "    }\n",
              "\n",
              "    [theme=dark] .colab-df-convert:hover {\n",
              "      background-color: #434B5C;\n",
              "      box-shadow: 0px 1px 3px 1px rgba(0, 0, 0, 0.15);\n",
              "      filter: drop-shadow(0px 1px 2px rgba(0, 0, 0, 0.3));\n",
              "      fill: #FFFFFF;\n",
              "    }\n",
              "  </style>\n",
              "\n",
              "      <script>\n",
              "        const buttonEl =\n",
              "          document.querySelector('#df-9aebb33f-4123-4982-9503-49c03fcafbfd button.colab-df-convert');\n",
              "        buttonEl.style.display =\n",
              "          google.colab.kernel.accessAllowed ? 'block' : 'none';\n",
              "\n",
              "        async function convertToInteractive(key) {\n",
              "          const element = document.querySelector('#df-9aebb33f-4123-4982-9503-49c03fcafbfd');\n",
              "          const dataTable =\n",
              "            await google.colab.kernel.invokeFunction('convertToInteractive',\n",
              "                                                     [key], {});\n",
              "          if (!dataTable) return;\n",
              "\n",
              "          const docLinkHtml = 'Like what you see? Visit the ' +\n",
              "            '<a target=\"_blank\" href=https://colab.research.google.com/notebooks/data_table.ipynb>data table notebook</a>'\n",
              "            + ' to learn more about interactive tables.';\n",
              "          element.innerHTML = '';\n",
              "          dataTable['output_type'] = 'display_data';\n",
              "          await google.colab.output.renderOutput(dataTable, element);\n",
              "          const docLink = document.createElement('div');\n",
              "          docLink.innerHTML = docLinkHtml;\n",
              "          element.appendChild(docLink);\n",
              "        }\n",
              "      </script>\n",
              "    </div>\n",
              "  </div>\n",
              "  "
            ]
          },
          "metadata": {},
          "execution_count": 67
        }
      ]
    },
    {
      "cell_type": "code",
      "source": [
        "churn_df.dropna(subset = ['preferred_offer_types', 'points_in_wallet'], inplace=True)"
      ],
      "metadata": {
        "id": "iqjR3TDzR1PE"
      },
      "execution_count": 17,
      "outputs": []
    },
    {
      "cell_type": "code",
      "source": [
        "churn_df['churn_risk_score'].replace([-1], 1, inplace=True)"
      ],
      "metadata": {
        "id": "8bjhL_c9IthM"
      },
      "execution_count": 18,
      "outputs": []
    },
    {
      "cell_type": "code",
      "source": [
        "churn_df['churn_risk_score'].value_counts()"
      ],
      "metadata": {
        "colab": {
          "base_uri": "https://localhost:8080/"
        },
        "id": "kicmBbRPJPdf",
        "outputId": "681d5e53-65a2-4a56-d3b3-7ed2a2ebc8d1"
      },
      "execution_count": 19,
      "outputs": [
        {
          "output_type": "execute_result",
          "data": {
            "text/plain": [
              "3.0    3384\n",
              "5.0    3280\n",
              "4.0    3219\n",
              "1.0    1241\n",
              "2.0     930\n",
              "Name: churn_risk_score, dtype: int64"
            ]
          },
          "metadata": {},
          "execution_count": 19
        }
      ]
    },
    {
      "cell_type": "code",
      "source": [
        "churn_df.isnull().sum()"
      ],
      "metadata": {
        "colab": {
          "base_uri": "https://localhost:8080/"
        },
        "id": "mHT21DhRtYc1",
        "outputId": "abcb9e62-cac4-472b-da4a-8bf2c6009a00"
      },
      "execution_count": 20,
      "outputs": [
        {
          "output_type": "execute_result",
          "data": {
            "text/plain": [
              "customer_id                        0\n",
              "Name                               0\n",
              "age                                0\n",
              "gender                             0\n",
              "security_no                        0\n",
              "region_category                 1835\n",
              "membership_category                0\n",
              "joining_date                       0\n",
              "joined_through_referral            0\n",
              "referral_id                        0\n",
              "preferred_offer_types              0\n",
              "medium_of_operation                0\n",
              "internet_option                    0\n",
              "last_visit_time                    0\n",
              "days_since_last_login              0\n",
              "avg_time_spent                     0\n",
              "avg_transaction_value              0\n",
              "avg_frequency_login_days           0\n",
              "points_in_wallet                   0\n",
              "used_special_discount              0\n",
              "offer_application_preference       0\n",
              "past_complaint                     0\n",
              "complaint_status                   0\n",
              "feedback                           0\n",
              "churn_risk_score                   0\n",
              "dtype: int64"
            ]
          },
          "metadata": {},
          "execution_count": 20
        }
      ]
    },
    {
      "cell_type": "code",
      "source": [
        "churn_df['membership_category'].value_counts()"
      ],
      "metadata": {
        "colab": {
          "base_uri": "https://localhost:8080/"
        },
        "id": "chrCgMty3V80",
        "outputId": "012c5482-1885-4216-c4a7-ad3bdee49012"
      },
      "execution_count": 21,
      "outputs": [
        {
          "output_type": "execute_result",
          "data": {
            "text/plain": [
              "No Membership          2574\n",
              "Basic Membership       2510\n",
              "Gold Membership        2178\n",
              "Silver Membership      1906\n",
              "Premium Membership     1450\n",
              "Platinum Membership    1436\n",
              "Name: membership_category, dtype: int64"
            ]
          },
          "metadata": {},
          "execution_count": 21
        }
      ]
    },
    {
      "cell_type": "code",
      "source": [
        "churn_df.groupby(['membership_category'])['churn_risk_score'].sum()"
      ],
      "metadata": {
        "colab": {
          "base_uri": "https://localhost:8080/"
        },
        "id": "sg9gGDIQ1Fw6",
        "outputId": "966b622b-8e21-414b-ac7d-df03ab911835"
      },
      "execution_count": 22,
      "outputs": [
        {
          "output_type": "execute_result",
          "data": {
            "text/plain": [
              "membership_category\n",
              "Basic Membership       11382.0\n",
              "Gold Membership         6422.0\n",
              "No Membership          11766.0\n",
              "Platinum Membership     3369.0\n",
              "Premium Membership      3411.0\n",
              "Silver Membership       6179.0\n",
              "Name: churn_risk_score, dtype: float64"
            ]
          },
          "metadata": {},
          "execution_count": 22
        }
      ]
    },
    {
      "cell_type": "code",
      "source": [
        "churn_df['churn_risk_score'].value_counts()"
      ],
      "metadata": {
        "colab": {
          "base_uri": "https://localhost:8080/"
        },
        "id": "yMPxQIxg4RMF",
        "outputId": "9f1f6847-c1cb-4cf1-9db3-b83472dbca38"
      },
      "execution_count": 23,
      "outputs": [
        {
          "output_type": "execute_result",
          "data": {
            "text/plain": [
              "3.0    3384\n",
              "5.0    3280\n",
              "4.0    3219\n",
              "1.0    1241\n",
              "2.0     930\n",
              "Name: churn_risk_score, dtype: int64"
            ]
          },
          "metadata": {},
          "execution_count": 23
        }
      ]
    },
    {
      "cell_type": "code",
      "source": [
        "churn_df.groupby(['preferred_offer_types'])['churn_risk_score'].sum()"
      ],
      "metadata": {
        "colab": {
          "base_uri": "https://localhost:8080/"
        },
        "id": "Mk3uCuhxBf_7",
        "outputId": "f42109ae-9f57-4e39-9e8a-0257ca3aa040"
      },
      "execution_count": 24,
      "outputs": [
        {
          "output_type": "execute_result",
          "data": {
            "text/plain": [
              "preferred_offer_types\n",
              "Credit/Debit Card Offers    13924.0\n",
              "Gift Vouchers/Coupons       13682.0\n",
              "Without Offers              14923.0\n",
              "Name: churn_risk_score, dtype: float64"
            ]
          },
          "metadata": {},
          "execution_count": 24
        }
      ]
    },
    {
      "cell_type": "code",
      "source": [
        "churn_df['complaint_status'].value_counts()"
      ],
      "metadata": {
        "colab": {
          "base_uri": "https://localhost:8080/"
        },
        "id": "euF0aIRR5oWV",
        "outputId": "f4e4c4db-9fd8-41a0-fdfd-9aae9f24cd93"
      },
      "execution_count": 25,
      "outputs": [
        {
          "output_type": "execute_result",
          "data": {
            "text/plain": [
              "Not Applicable              6081\n",
              "Solved in Follow-up         1515\n",
              "Unsolved                    1503\n",
              "Solved                      1479\n",
              "No Information Available    1476\n",
              "Name: complaint_status, dtype: int64"
            ]
          },
          "metadata": {},
          "execution_count": 25
        }
      ]
    },
    {
      "cell_type": "code",
      "source": [
        "churn_df['feedback'].value_counts()"
      ],
      "metadata": {
        "colab": {
          "base_uri": "https://localhost:8080/"
        },
        "id": "6QUv7Da06Fa0",
        "outputId": "da330e08-1a47-464a-b4b7-c0fc7ab2c1c3"
      },
      "execution_count": 26,
      "outputs": [
        {
          "output_type": "execute_result",
          "data": {
            "text/plain": [
              "No reason specified         2080\n",
              "Poor Product Quality        2076\n",
              "Poor Customer Service       2040\n",
              "Too many ads                2021\n",
              "Poor Website                1992\n",
              "Reasonable Price             481\n",
              "User Friendly Website        479\n",
              "Products always in Stock     450\n",
              "Quality Customer Care        435\n",
              "Name: feedback, dtype: int64"
            ]
          },
          "metadata": {},
          "execution_count": 26
        }
      ]
    },
    {
      "cell_type": "code",
      "source": [
        "churn_df['age'].max(), churn_df['age'].min()"
      ],
      "metadata": {
        "colab": {
          "base_uri": "https://localhost:8080/"
        },
        "id": "JiQ6sViS-f6w",
        "outputId": "6efb271d-e086-4d07-f9cd-859fab3cc729"
      },
      "execution_count": 27,
      "outputs": [
        {
          "output_type": "execute_result",
          "data": {
            "text/plain": [
              "(64, 10)"
            ]
          },
          "metadata": {},
          "execution_count": 27
        }
      ]
    },
    {
      "cell_type": "code",
      "source": [
        "churn_df['age_category'] = pd.cut(churn_df[\"age\"], bins = 5, labels = [1,2,3,4,5])"
      ],
      "metadata": {
        "id": "S8ijktUlA3si"
      },
      "execution_count": 28,
      "outputs": []
    },
    {
      "cell_type": "code",
      "source": [
        "churn_df.groupby(['age_category'])['churn_risk_score'].sum()"
      ],
      "metadata": {
        "colab": {
          "base_uri": "https://localhost:8080/"
        },
        "id": "SzYGeOI7_DCm",
        "outputId": "799f0992-d696-48bc-df69-d38a9979261f"
      },
      "execution_count": 29,
      "outputs": [
        {
          "output_type": "execute_result",
          "data": {
            "text/plain": [
              "age_category\n",
              "1    8366.0\n",
              "2    8329.0\n",
              "3    8513.0\n",
              "4    8490.0\n",
              "5    8831.0\n",
              "Name: churn_risk_score, dtype: float64"
            ]
          },
          "metadata": {},
          "execution_count": 29
        }
      ]
    },
    {
      "cell_type": "code",
      "source": [
        "churn_df.columns"
      ],
      "metadata": {
        "colab": {
          "base_uri": "https://localhost:8080/"
        },
        "id": "QTv-fUQ4DgWO",
        "outputId": "2910090d-0deb-45ab-f991-27d31639d976"
      },
      "execution_count": 30,
      "outputs": [
        {
          "output_type": "execute_result",
          "data": {
            "text/plain": [
              "Index(['customer_id', 'Name', 'age', 'gender', 'security_no',\n",
              "       'region_category', 'membership_category', 'joining_date',\n",
              "       'joined_through_referral', 'referral_id', 'preferred_offer_types',\n",
              "       'medium_of_operation', 'internet_option', 'last_visit_time',\n",
              "       'days_since_last_login', 'avg_time_spent', 'avg_transaction_value',\n",
              "       'avg_frequency_login_days', 'points_in_wallet', 'used_special_discount',\n",
              "       'offer_application_preference', 'past_complaint', 'complaint_status',\n",
              "       'feedback', 'churn_risk_score', 'age_category'],\n",
              "      dtype='object')"
            ]
          },
          "metadata": {},
          "execution_count": 30
        }
      ]
    },
    {
      "cell_type": "code",
      "source": [
        "vars = ['membership_category', 'preferred_offer_types', 'region_category',\n",
        "       'medium_of_operation', 'internet_option',\n",
        "       'days_since_last_login', 'avg_time_spent', 'avg_transaction_value',\n",
        "       'avg_frequency_login_days', 'points_in_wallet', 'used_special_discount',\n",
        "       'offer_application_preference', 'past_complaint', 'complaint_status',\n",
        "       'feedback', 'age_category', 'churn_risk_score']\n",
        "\n",
        "new_churn = churn_df[vars]"
      ],
      "metadata": {
        "id": "mx659bAeAVA6"
      },
      "execution_count": 31,
      "outputs": []
    },
    {
      "cell_type": "code",
      "source": [
        "new_churn.shape"
      ],
      "metadata": {
        "colab": {
          "base_uri": "https://localhost:8080/"
        },
        "id": "ppVJE7nqEPAa",
        "outputId": "3ee7e545-2c78-47d6-cbd6-c0c38d61110e"
      },
      "execution_count": 32,
      "outputs": [
        {
          "output_type": "execute_result",
          "data": {
            "text/plain": [
              "(12054, 17)"
            ]
          },
          "metadata": {},
          "execution_count": 32
        }
      ]
    },
    {
      "cell_type": "markdown",
      "source": [
        "## Guided Ordinal Encoding"
      ],
      "metadata": {
        "id": "sU2Amq8SZvPi"
      }
    },
    {
      "cell_type": "code",
      "source": [
        "new_churn.head()"
      ],
      "metadata": {
        "colab": {
          "base_uri": "https://localhost:8080/",
          "height": 392
        },
        "id": "MtaQLIKfaEbT",
        "outputId": "b36e7f3c-e69a-48c8-d8a2-e38869cb7d31"
      },
      "execution_count": 33,
      "outputs": [
        {
          "output_type": "execute_result",
          "data": {
            "text/plain": [
              "   membership_category     preferred_offer_types region_category  \\\n",
              "0  Platinum Membership     Gift Vouchers/Coupons         Village   \n",
              "2        No Membership     Gift Vouchers/Coupons            Town   \n",
              "3        No Membership     Gift Vouchers/Coupons            City   \n",
              "4        No Membership  Credit/Debit Card Offers            City   \n",
              "5      Gold Membership     Gift Vouchers/Coupons            City   \n",
              "\n",
              "  medium_of_operation internet_option  days_since_last_login  avg_time_spent  \\\n",
              "0                   ?           Wi-Fi                   17.0          300.63   \n",
              "2             Desktop           Wi-Fi                   14.0          516.16   \n",
              "3             Desktop     Mobile_Data                   11.0           53.27   \n",
              "4          Smartphone     Mobile_Data                   20.0          113.13   \n",
              "5                   ?           Wi-Fi                   23.0          433.62   \n",
              "\n",
              "   avg_transaction_value avg_frequency_login_days  points_in_wallet  \\\n",
              "0               53005.25                     17.0            781.75   \n",
              "2               21027.00                     22.0            500.69   \n",
              "3               25239.56                      6.0            567.66   \n",
              "4               24483.66                     16.0            663.06   \n",
              "5               13884.77                     24.0            722.27   \n",
              "\n",
              "  used_special_discount offer_application_preference past_complaint  \\\n",
              "0                   Yes                          Yes             No   \n",
              "2                    No                          Yes            Yes   \n",
              "3                    No                          Yes            Yes   \n",
              "4                    No                          Yes            Yes   \n",
              "5                   Yes                           No            Yes   \n",
              "\n",
              "      complaint_status                  feedback age_category  \\\n",
              "0       Not Applicable  Products always in Stock            1   \n",
              "2  Solved in Follow-up              Poor Website            4   \n",
              "3             Unsolved              Poor Website            3   \n",
              "4               Solved              Poor Website            2   \n",
              "5             Unsolved       No reason specified            1   \n",
              "\n",
              "   churn_risk_score  \n",
              "0               2.0  \n",
              "2               5.0  \n",
              "3               5.0  \n",
              "4               5.0  \n",
              "5               3.0  "
            ],
            "text/html": [
              "\n",
              "  <div id=\"df-bda00302-c04d-4e35-b372-82c3c2b0dce1\">\n",
              "    <div class=\"colab-df-container\">\n",
              "      <div>\n",
              "<style scoped>\n",
              "    .dataframe tbody tr th:only-of-type {\n",
              "        vertical-align: middle;\n",
              "    }\n",
              "\n",
              "    .dataframe tbody tr th {\n",
              "        vertical-align: top;\n",
              "    }\n",
              "\n",
              "    .dataframe thead th {\n",
              "        text-align: right;\n",
              "    }\n",
              "</style>\n",
              "<table border=\"1\" class=\"dataframe\">\n",
              "  <thead>\n",
              "    <tr style=\"text-align: right;\">\n",
              "      <th></th>\n",
              "      <th>membership_category</th>\n",
              "      <th>preferred_offer_types</th>\n",
              "      <th>region_category</th>\n",
              "      <th>medium_of_operation</th>\n",
              "      <th>internet_option</th>\n",
              "      <th>days_since_last_login</th>\n",
              "      <th>avg_time_spent</th>\n",
              "      <th>avg_transaction_value</th>\n",
              "      <th>avg_frequency_login_days</th>\n",
              "      <th>points_in_wallet</th>\n",
              "      <th>used_special_discount</th>\n",
              "      <th>offer_application_preference</th>\n",
              "      <th>past_complaint</th>\n",
              "      <th>complaint_status</th>\n",
              "      <th>feedback</th>\n",
              "      <th>age_category</th>\n",
              "      <th>churn_risk_score</th>\n",
              "    </tr>\n",
              "  </thead>\n",
              "  <tbody>\n",
              "    <tr>\n",
              "      <th>0</th>\n",
              "      <td>Platinum Membership</td>\n",
              "      <td>Gift Vouchers/Coupons</td>\n",
              "      <td>Village</td>\n",
              "      <td>?</td>\n",
              "      <td>Wi-Fi</td>\n",
              "      <td>17.0</td>\n",
              "      <td>300.63</td>\n",
              "      <td>53005.25</td>\n",
              "      <td>17.0</td>\n",
              "      <td>781.75</td>\n",
              "      <td>Yes</td>\n",
              "      <td>Yes</td>\n",
              "      <td>No</td>\n",
              "      <td>Not Applicable</td>\n",
              "      <td>Products always in Stock</td>\n",
              "      <td>1</td>\n",
              "      <td>2.0</td>\n",
              "    </tr>\n",
              "    <tr>\n",
              "      <th>2</th>\n",
              "      <td>No Membership</td>\n",
              "      <td>Gift Vouchers/Coupons</td>\n",
              "      <td>Town</td>\n",
              "      <td>Desktop</td>\n",
              "      <td>Wi-Fi</td>\n",
              "      <td>14.0</td>\n",
              "      <td>516.16</td>\n",
              "      <td>21027.00</td>\n",
              "      <td>22.0</td>\n",
              "      <td>500.69</td>\n",
              "      <td>No</td>\n",
              "      <td>Yes</td>\n",
              "      <td>Yes</td>\n",
              "      <td>Solved in Follow-up</td>\n",
              "      <td>Poor Website</td>\n",
              "      <td>4</td>\n",
              "      <td>5.0</td>\n",
              "    </tr>\n",
              "    <tr>\n",
              "      <th>3</th>\n",
              "      <td>No Membership</td>\n",
              "      <td>Gift Vouchers/Coupons</td>\n",
              "      <td>City</td>\n",
              "      <td>Desktop</td>\n",
              "      <td>Mobile_Data</td>\n",
              "      <td>11.0</td>\n",
              "      <td>53.27</td>\n",
              "      <td>25239.56</td>\n",
              "      <td>6.0</td>\n",
              "      <td>567.66</td>\n",
              "      <td>No</td>\n",
              "      <td>Yes</td>\n",
              "      <td>Yes</td>\n",
              "      <td>Unsolved</td>\n",
              "      <td>Poor Website</td>\n",
              "      <td>3</td>\n",
              "      <td>5.0</td>\n",
              "    </tr>\n",
              "    <tr>\n",
              "      <th>4</th>\n",
              "      <td>No Membership</td>\n",
              "      <td>Credit/Debit Card Offers</td>\n",
              "      <td>City</td>\n",
              "      <td>Smartphone</td>\n",
              "      <td>Mobile_Data</td>\n",
              "      <td>20.0</td>\n",
              "      <td>113.13</td>\n",
              "      <td>24483.66</td>\n",
              "      <td>16.0</td>\n",
              "      <td>663.06</td>\n",
              "      <td>No</td>\n",
              "      <td>Yes</td>\n",
              "      <td>Yes</td>\n",
              "      <td>Solved</td>\n",
              "      <td>Poor Website</td>\n",
              "      <td>2</td>\n",
              "      <td>5.0</td>\n",
              "    </tr>\n",
              "    <tr>\n",
              "      <th>5</th>\n",
              "      <td>Gold Membership</td>\n",
              "      <td>Gift Vouchers/Coupons</td>\n",
              "      <td>City</td>\n",
              "      <td>?</td>\n",
              "      <td>Wi-Fi</td>\n",
              "      <td>23.0</td>\n",
              "      <td>433.62</td>\n",
              "      <td>13884.77</td>\n",
              "      <td>24.0</td>\n",
              "      <td>722.27</td>\n",
              "      <td>Yes</td>\n",
              "      <td>No</td>\n",
              "      <td>Yes</td>\n",
              "      <td>Unsolved</td>\n",
              "      <td>No reason specified</td>\n",
              "      <td>1</td>\n",
              "      <td>3.0</td>\n",
              "    </tr>\n",
              "  </tbody>\n",
              "</table>\n",
              "</div>\n",
              "      <button class=\"colab-df-convert\" onclick=\"convertToInteractive('df-bda00302-c04d-4e35-b372-82c3c2b0dce1')\"\n",
              "              title=\"Convert this dataframe to an interactive table.\"\n",
              "              style=\"display:none;\">\n",
              "        \n",
              "  <svg xmlns=\"http://www.w3.org/2000/svg\" height=\"24px\"viewBox=\"0 0 24 24\"\n",
              "       width=\"24px\">\n",
              "    <path d=\"M0 0h24v24H0V0z\" fill=\"none\"/>\n",
              "    <path d=\"M18.56 5.44l.94 2.06.94-2.06 2.06-.94-2.06-.94-.94-2.06-.94 2.06-2.06.94zm-11 1L8.5 8.5l.94-2.06 2.06-.94-2.06-.94L8.5 2.5l-.94 2.06-2.06.94zm10 10l.94 2.06.94-2.06 2.06-.94-2.06-.94-.94-2.06-.94 2.06-2.06.94z\"/><path d=\"M17.41 7.96l-1.37-1.37c-.4-.4-.92-.59-1.43-.59-.52 0-1.04.2-1.43.59L10.3 9.45l-7.72 7.72c-.78.78-.78 2.05 0 2.83L4 21.41c.39.39.9.59 1.41.59.51 0 1.02-.2 1.41-.59l7.78-7.78 2.81-2.81c.8-.78.8-2.07 0-2.86zM5.41 20L4 18.59l7.72-7.72 1.47 1.35L5.41 20z\"/>\n",
              "  </svg>\n",
              "      </button>\n",
              "      \n",
              "  <style>\n",
              "    .colab-df-container {\n",
              "      display:flex;\n",
              "      flex-wrap:wrap;\n",
              "      gap: 12px;\n",
              "    }\n",
              "\n",
              "    .colab-df-convert {\n",
              "      background-color: #E8F0FE;\n",
              "      border: none;\n",
              "      border-radius: 50%;\n",
              "      cursor: pointer;\n",
              "      display: none;\n",
              "      fill: #1967D2;\n",
              "      height: 32px;\n",
              "      padding: 0 0 0 0;\n",
              "      width: 32px;\n",
              "    }\n",
              "\n",
              "    .colab-df-convert:hover {\n",
              "      background-color: #E2EBFA;\n",
              "      box-shadow: 0px 1px 2px rgba(60, 64, 67, 0.3), 0px 1px 3px 1px rgba(60, 64, 67, 0.15);\n",
              "      fill: #174EA6;\n",
              "    }\n",
              "\n",
              "    [theme=dark] .colab-df-convert {\n",
              "      background-color: #3B4455;\n",
              "      fill: #D2E3FC;\n",
              "    }\n",
              "\n",
              "    [theme=dark] .colab-df-convert:hover {\n",
              "      background-color: #434B5C;\n",
              "      box-shadow: 0px 1px 3px 1px rgba(0, 0, 0, 0.15);\n",
              "      filter: drop-shadow(0px 1px 2px rgba(0, 0, 0, 0.3));\n",
              "      fill: #FFFFFF;\n",
              "    }\n",
              "  </style>\n",
              "\n",
              "      <script>\n",
              "        const buttonEl =\n",
              "          document.querySelector('#df-bda00302-c04d-4e35-b372-82c3c2b0dce1 button.colab-df-convert');\n",
              "        buttonEl.style.display =\n",
              "          google.colab.kernel.accessAllowed ? 'block' : 'none';\n",
              "\n",
              "        async function convertToInteractive(key) {\n",
              "          const element = document.querySelector('#df-bda00302-c04d-4e35-b372-82c3c2b0dce1');\n",
              "          const dataTable =\n",
              "            await google.colab.kernel.invokeFunction('convertToInteractive',\n",
              "                                                     [key], {});\n",
              "          if (!dataTable) return;\n",
              "\n",
              "          const docLinkHtml = 'Like what you see? Visit the ' +\n",
              "            '<a target=\"_blank\" href=https://colab.research.google.com/notebooks/data_table.ipynb>data table notebook</a>'\n",
              "            + ' to learn more about interactive tables.';\n",
              "          element.innerHTML = '';\n",
              "          dataTable['output_type'] = 'display_data';\n",
              "          await google.colab.output.renderOutput(dataTable, element);\n",
              "          const docLink = document.createElement('div');\n",
              "          docLink.innerHTML = docLinkHtml;\n",
              "          element.appendChild(docLink);\n",
              "        }\n",
              "      </script>\n",
              "    </div>\n",
              "  </div>\n",
              "  "
            ]
          },
          "metadata": {},
          "execution_count": 33
        }
      ]
    },
    {
      "cell_type": "code",
      "source": [
        "def target_ordinal(feature: str):\n",
        "  labels = new_churn.groupby([feature])['churn_risk_score'].mean().sort_values().index\n",
        "  labels_dict = {k:i for i,k in enumerate(labels,0)}\n",
        "  new_churn[f'{feature}-encoded'] = new_churn[feature].map(labels_dict)\n",
        "  return {f'{feature}-encoded':labels_dict}"
      ],
      "metadata": {
        "id": "jHUOLhOQW3Jj"
      },
      "execution_count": 34,
      "outputs": []
    },
    {
      "cell_type": "code",
      "source": [
        "print(target_ordinal('membership_category'))\n",
        "print(target_ordinal('preferred_offer_types'))\n",
        "print(target_ordinal('used_special_discount'))\n",
        "print(target_ordinal('past_complaint'))\n",
        "print(target_ordinal('feedback'))\n",
        "print(target_ordinal('complaint_status'))\n",
        "print(target_ordinal('age_category'))\n",
        "print(target_ordinal('medium_of_operation'))\n",
        "print(target_ordinal('internet_option'))"
      ],
      "metadata": {
        "colab": {
          "base_uri": "https://localhost:8080/"
        },
        "id": "sTCbDkzhW3Gu",
        "outputId": "59a4ee08-36da-4684-89f9-4a917a39c16e"
      },
      "execution_count": 35,
      "outputs": [
        {
          "output_type": "stream",
          "name": "stdout",
          "text": [
            "{'membership_category-encoded': {'Platinum Membership': 0, 'Premium Membership': 1, 'Gold Membership': 2, 'Silver Membership': 3, 'Basic Membership': 4, 'No Membership': 5}}\n",
            "{'preferred_offer_types-encoded': {'Gift Vouchers/Coupons': 0, 'Credit/Debit Card Offers': 1, 'Without Offers': 2}}\n",
            "{'used_special_discount-encoded': {'Yes': 0, 'No': 1}}\n",
            "{'past_complaint-encoded': {'No': 0, 'Yes': 1}}\n",
            "{'feedback-encoded': {'Products always in Stock': 0, 'Reasonable Price': 1, 'Quality Customer Care': 2, 'User Friendly Website': 3, 'Poor Customer Service': 4, 'Poor Website': 5, 'No reason specified': 6, 'Too many ads': 7, 'Poor Product Quality': 8}}\n",
            "{'complaint_status-encoded': {'Not Applicable': 0, 'No Information Available': 1, 'Solved': 2, 'Solved in Follow-up': 3, 'Unsolved': 4}}\n",
            "{'age_category-encoded': {1: 0, 3: 1, 2: 2, 4: 3, 5: 4}}\n",
            "{'medium_of_operation-encoded': {'Both': 0, 'Desktop': 1, '?': 2, 'Smartphone': 3}}\n",
            "{'internet_option-encoded': {'Fiber_Optic': 0, 'Wi-Fi': 1, 'Mobile_Data': 2}}\n"
          ]
        },
        {
          "output_type": "stream",
          "name": "stderr",
          "text": [
            "/usr/local/lib/python3.7/dist-packages/ipykernel_launcher.py:4: SettingWithCopyWarning: \n",
            "A value is trying to be set on a copy of a slice from a DataFrame.\n",
            "Try using .loc[row_indexer,col_indexer] = value instead\n",
            "\n",
            "See the caveats in the documentation: https://pandas.pydata.org/pandas-docs/stable/user_guide/indexing.html#returning-a-view-versus-a-copy\n",
            "  after removing the cwd from sys.path.\n"
          ]
        }
      ]
    },
    {
      "cell_type": "code",
      "source": [
        "new_churn.drop(columns = ['membership_category', 'complaint_status', 'preferred_offer_types', 'used_special_discount', \n",
        "                          'past_complaint', 'feedback', 'age_category', 'medium_of_operation', 'internet_option', 'region_category', \n",
        "                          'offer_application_preference'],\n",
        "               inplace = True)"
      ],
      "metadata": {
        "id": "ABYJMKQsmy6L"
      },
      "execution_count": 36,
      "outputs": []
    },
    {
      "cell_type": "code",
      "source": [
        "new_churn.head(20)"
      ],
      "metadata": {
        "colab": {
          "base_uri": "https://localhost:8080/",
          "height": 758
        },
        "id": "ToVuXwY8v9em",
        "outputId": "18b536e6-2851-426e-deef-3957314b3741"
      },
      "execution_count": 37,
      "outputs": [
        {
          "output_type": "execute_result",
          "data": {
            "text/plain": [
              "    days_since_last_login  avg_time_spent  avg_transaction_value  \\\n",
              "0                    17.0          300.63               53005.25   \n",
              "2                    14.0          516.16               21027.00   \n",
              "3                    11.0           53.27               25239.56   \n",
              "4                    20.0          113.13               24483.66   \n",
              "5                    23.0          433.62               13884.77   \n",
              "6                    10.0           55.38                8982.50   \n",
              "7                    19.0          429.11               44554.82   \n",
              "9                    10.0           97.31               19244.16   \n",
              "10                   14.0          570.23               35119.93   \n",
              "11                   14.0           55.53               41672.02   \n",
              "12                   13.0           41.09               44007.18   \n",
              "15                 -999.0           30.14               18792.31   \n",
              "17                   12.0          275.13               29072.86   \n",
              "18                    9.0          241.74               33170.16   \n",
              "19                   14.0           31.15               66982.61   \n",
              "20                   15.0           49.86               44289.97   \n",
              "21                   21.0           30.37               49404.86   \n",
              "22                   15.0          483.03               52702.67   \n",
              "23                   12.0           72.52               15860.41   \n",
              "24                   17.0          108.30               21725.57   \n",
              "\n",
              "   avg_frequency_login_days  points_in_wallet  churn_risk_score  \\\n",
              "0                      17.0        781.750000               2.0   \n",
              "2                      22.0        500.690000               5.0   \n",
              "3                       6.0        567.660000               5.0   \n",
              "4                      16.0        663.060000               5.0   \n",
              "5                      24.0        722.270000               3.0   \n",
              "6                      28.0        756.210000               3.0   \n",
              "7                      24.0        568.080000               5.0   \n",
              "9                      28.0        706.230000               4.0   \n",
              "10                      8.0        699.700000               5.0   \n",
              "11        33.02434314076341        798.120000               3.0   \n",
              "12                     18.0        608.260000               4.0   \n",
              "15                      7.0        141.513201               5.0   \n",
              "17                     26.0        733.970000               3.0   \n",
              "18                      6.0        551.110000               5.0   \n",
              "19                      8.0        164.800769               2.0   \n",
              "20                     25.0        703.960000               4.0   \n",
              "21                     23.0        630.610000               5.0   \n",
              "22                      3.0        389.356443               2.0   \n",
              "23       3.2073857931601104        529.030000               1.0   \n",
              "24                     21.0        225.004428               4.0   \n",
              "\n",
              "    membership_category-encoded  preferred_offer_types-encoded  \\\n",
              "0                             0                              0   \n",
              "2                             5                              0   \n",
              "3                             5                              0   \n",
              "4                             5                              1   \n",
              "5                             2                              0   \n",
              "6                             2                              0   \n",
              "7                             5                              1   \n",
              "9                             5                              0   \n",
              "10                            4                              0   \n",
              "11                            2                              0   \n",
              "12                            5                              1   \n",
              "15                            4                              1   \n",
              "17                            3                              0   \n",
              "18                            5                              1   \n",
              "19                            1                              2   \n",
              "20                            5                              2   \n",
              "21                            5                              0   \n",
              "22                            0                              0   \n",
              "23                            4                              2   \n",
              "24                            5                              1   \n",
              "\n",
              "    used_special_discount-encoded  past_complaint-encoded  feedback-encoded  \\\n",
              "0                               0                       0                 0   \n",
              "2                               1                       1                 5   \n",
              "3                               1                       1                 5   \n",
              "4                               1                       1                 5   \n",
              "5                               0                       1                 6   \n",
              "6                               0                       1                 6   \n",
              "7                               1                       1                 8   \n",
              "9                               1                       1                 4   \n",
              "10                              0                       0                 8   \n",
              "11                              0                       0                 7   \n",
              "12                              0                       1                 4   \n",
              "15                              0                       1                 7   \n",
              "17                              0                       0                 4   \n",
              "18                              0                       1                 6   \n",
              "19                              0                       1                 0   \n",
              "20                              0                       0                 4   \n",
              "21                              0                       1                 5   \n",
              "22                              1                       1                 3   \n",
              "23                              1                       0                 6   \n",
              "24                              1                       0                 5   \n",
              "\n",
              "    complaint_status-encoded age_category-encoded  \\\n",
              "0                          0                    0   \n",
              "2                          3                    3   \n",
              "3                          4                    1   \n",
              "4                          2                    2   \n",
              "5                          4                    0   \n",
              "6                          3                    2   \n",
              "7                          4                    1   \n",
              "9                          1                    3   \n",
              "10                         0                    2   \n",
              "11                         0                    4   \n",
              "12                         4                    0   \n",
              "15                         4                    0   \n",
              "17                         0                    0   \n",
              "18                         1                    1   \n",
              "19                         4                    3   \n",
              "20                         0                    1   \n",
              "21                         1                    2   \n",
              "22                         1                    0   \n",
              "23                         0                    3   \n",
              "24                         0                    3   \n",
              "\n",
              "    medium_of_operation-encoded  internet_option-encoded  \n",
              "0                             2                        1  \n",
              "2                             1                        1  \n",
              "3                             1                        2  \n",
              "4                             3                        2  \n",
              "5                             2                        1  \n",
              "6                             1                        2  \n",
              "7                             0                        0  \n",
              "9                             2                        1  \n",
              "10                            0                        1  \n",
              "11                            3                        1  \n",
              "12                            3                        0  \n",
              "15                            3                        0  \n",
              "17                            2                        1  \n",
              "18                            3                        0  \n",
              "19                            2                        2  \n",
              "20                            1                        1  \n",
              "21                            3                        2  \n",
              "22                            2                        2  \n",
              "23                            3                        0  \n",
              "24                            1                        0  "
            ],
            "text/html": [
              "\n",
              "  <div id=\"df-836f87bb-8df1-460f-8607-7e75f901d137\">\n",
              "    <div class=\"colab-df-container\">\n",
              "      <div>\n",
              "<style scoped>\n",
              "    .dataframe tbody tr th:only-of-type {\n",
              "        vertical-align: middle;\n",
              "    }\n",
              "\n",
              "    .dataframe tbody tr th {\n",
              "        vertical-align: top;\n",
              "    }\n",
              "\n",
              "    .dataframe thead th {\n",
              "        text-align: right;\n",
              "    }\n",
              "</style>\n",
              "<table border=\"1\" class=\"dataframe\">\n",
              "  <thead>\n",
              "    <tr style=\"text-align: right;\">\n",
              "      <th></th>\n",
              "      <th>days_since_last_login</th>\n",
              "      <th>avg_time_spent</th>\n",
              "      <th>avg_transaction_value</th>\n",
              "      <th>avg_frequency_login_days</th>\n",
              "      <th>points_in_wallet</th>\n",
              "      <th>churn_risk_score</th>\n",
              "      <th>membership_category-encoded</th>\n",
              "      <th>preferred_offer_types-encoded</th>\n",
              "      <th>used_special_discount-encoded</th>\n",
              "      <th>past_complaint-encoded</th>\n",
              "      <th>feedback-encoded</th>\n",
              "      <th>complaint_status-encoded</th>\n",
              "      <th>age_category-encoded</th>\n",
              "      <th>medium_of_operation-encoded</th>\n",
              "      <th>internet_option-encoded</th>\n",
              "    </tr>\n",
              "  </thead>\n",
              "  <tbody>\n",
              "    <tr>\n",
              "      <th>0</th>\n",
              "      <td>17.0</td>\n",
              "      <td>300.63</td>\n",
              "      <td>53005.25</td>\n",
              "      <td>17.0</td>\n",
              "      <td>781.750000</td>\n",
              "      <td>2.0</td>\n",
              "      <td>0</td>\n",
              "      <td>0</td>\n",
              "      <td>0</td>\n",
              "      <td>0</td>\n",
              "      <td>0</td>\n",
              "      <td>0</td>\n",
              "      <td>0</td>\n",
              "      <td>2</td>\n",
              "      <td>1</td>\n",
              "    </tr>\n",
              "    <tr>\n",
              "      <th>2</th>\n",
              "      <td>14.0</td>\n",
              "      <td>516.16</td>\n",
              "      <td>21027.00</td>\n",
              "      <td>22.0</td>\n",
              "      <td>500.690000</td>\n",
              "      <td>5.0</td>\n",
              "      <td>5</td>\n",
              "      <td>0</td>\n",
              "      <td>1</td>\n",
              "      <td>1</td>\n",
              "      <td>5</td>\n",
              "      <td>3</td>\n",
              "      <td>3</td>\n",
              "      <td>1</td>\n",
              "      <td>1</td>\n",
              "    </tr>\n",
              "    <tr>\n",
              "      <th>3</th>\n",
              "      <td>11.0</td>\n",
              "      <td>53.27</td>\n",
              "      <td>25239.56</td>\n",
              "      <td>6.0</td>\n",
              "      <td>567.660000</td>\n",
              "      <td>5.0</td>\n",
              "      <td>5</td>\n",
              "      <td>0</td>\n",
              "      <td>1</td>\n",
              "      <td>1</td>\n",
              "      <td>5</td>\n",
              "      <td>4</td>\n",
              "      <td>1</td>\n",
              "      <td>1</td>\n",
              "      <td>2</td>\n",
              "    </tr>\n",
              "    <tr>\n",
              "      <th>4</th>\n",
              "      <td>20.0</td>\n",
              "      <td>113.13</td>\n",
              "      <td>24483.66</td>\n",
              "      <td>16.0</td>\n",
              "      <td>663.060000</td>\n",
              "      <td>5.0</td>\n",
              "      <td>5</td>\n",
              "      <td>1</td>\n",
              "      <td>1</td>\n",
              "      <td>1</td>\n",
              "      <td>5</td>\n",
              "      <td>2</td>\n",
              "      <td>2</td>\n",
              "      <td>3</td>\n",
              "      <td>2</td>\n",
              "    </tr>\n",
              "    <tr>\n",
              "      <th>5</th>\n",
              "      <td>23.0</td>\n",
              "      <td>433.62</td>\n",
              "      <td>13884.77</td>\n",
              "      <td>24.0</td>\n",
              "      <td>722.270000</td>\n",
              "      <td>3.0</td>\n",
              "      <td>2</td>\n",
              "      <td>0</td>\n",
              "      <td>0</td>\n",
              "      <td>1</td>\n",
              "      <td>6</td>\n",
              "      <td>4</td>\n",
              "      <td>0</td>\n",
              "      <td>2</td>\n",
              "      <td>1</td>\n",
              "    </tr>\n",
              "    <tr>\n",
              "      <th>6</th>\n",
              "      <td>10.0</td>\n",
              "      <td>55.38</td>\n",
              "      <td>8982.50</td>\n",
              "      <td>28.0</td>\n",
              "      <td>756.210000</td>\n",
              "      <td>3.0</td>\n",
              "      <td>2</td>\n",
              "      <td>0</td>\n",
              "      <td>0</td>\n",
              "      <td>1</td>\n",
              "      <td>6</td>\n",
              "      <td>3</td>\n",
              "      <td>2</td>\n",
              "      <td>1</td>\n",
              "      <td>2</td>\n",
              "    </tr>\n",
              "    <tr>\n",
              "      <th>7</th>\n",
              "      <td>19.0</td>\n",
              "      <td>429.11</td>\n",
              "      <td>44554.82</td>\n",
              "      <td>24.0</td>\n",
              "      <td>568.080000</td>\n",
              "      <td>5.0</td>\n",
              "      <td>5</td>\n",
              "      <td>1</td>\n",
              "      <td>1</td>\n",
              "      <td>1</td>\n",
              "      <td>8</td>\n",
              "      <td>4</td>\n",
              "      <td>1</td>\n",
              "      <td>0</td>\n",
              "      <td>0</td>\n",
              "    </tr>\n",
              "    <tr>\n",
              "      <th>9</th>\n",
              "      <td>10.0</td>\n",
              "      <td>97.31</td>\n",
              "      <td>19244.16</td>\n",
              "      <td>28.0</td>\n",
              "      <td>706.230000</td>\n",
              "      <td>4.0</td>\n",
              "      <td>5</td>\n",
              "      <td>0</td>\n",
              "      <td>1</td>\n",
              "      <td>1</td>\n",
              "      <td>4</td>\n",
              "      <td>1</td>\n",
              "      <td>3</td>\n",
              "      <td>2</td>\n",
              "      <td>1</td>\n",
              "    </tr>\n",
              "    <tr>\n",
              "      <th>10</th>\n",
              "      <td>14.0</td>\n",
              "      <td>570.23</td>\n",
              "      <td>35119.93</td>\n",
              "      <td>8.0</td>\n",
              "      <td>699.700000</td>\n",
              "      <td>5.0</td>\n",
              "      <td>4</td>\n",
              "      <td>0</td>\n",
              "      <td>0</td>\n",
              "      <td>0</td>\n",
              "      <td>8</td>\n",
              "      <td>0</td>\n",
              "      <td>2</td>\n",
              "      <td>0</td>\n",
              "      <td>1</td>\n",
              "    </tr>\n",
              "    <tr>\n",
              "      <th>11</th>\n",
              "      <td>14.0</td>\n",
              "      <td>55.53</td>\n",
              "      <td>41672.02</td>\n",
              "      <td>33.02434314076341</td>\n",
              "      <td>798.120000</td>\n",
              "      <td>3.0</td>\n",
              "      <td>2</td>\n",
              "      <td>0</td>\n",
              "      <td>0</td>\n",
              "      <td>0</td>\n",
              "      <td>7</td>\n",
              "      <td>0</td>\n",
              "      <td>4</td>\n",
              "      <td>3</td>\n",
              "      <td>1</td>\n",
              "    </tr>\n",
              "    <tr>\n",
              "      <th>12</th>\n",
              "      <td>13.0</td>\n",
              "      <td>41.09</td>\n",
              "      <td>44007.18</td>\n",
              "      <td>18.0</td>\n",
              "      <td>608.260000</td>\n",
              "      <td>4.0</td>\n",
              "      <td>5</td>\n",
              "      <td>1</td>\n",
              "      <td>0</td>\n",
              "      <td>1</td>\n",
              "      <td>4</td>\n",
              "      <td>4</td>\n",
              "      <td>0</td>\n",
              "      <td>3</td>\n",
              "      <td>0</td>\n",
              "    </tr>\n",
              "    <tr>\n",
              "      <th>15</th>\n",
              "      <td>-999.0</td>\n",
              "      <td>30.14</td>\n",
              "      <td>18792.31</td>\n",
              "      <td>7.0</td>\n",
              "      <td>141.513201</td>\n",
              "      <td>5.0</td>\n",
              "      <td>4</td>\n",
              "      <td>1</td>\n",
              "      <td>0</td>\n",
              "      <td>1</td>\n",
              "      <td>7</td>\n",
              "      <td>4</td>\n",
              "      <td>0</td>\n",
              "      <td>3</td>\n",
              "      <td>0</td>\n",
              "    </tr>\n",
              "    <tr>\n",
              "      <th>17</th>\n",
              "      <td>12.0</td>\n",
              "      <td>275.13</td>\n",
              "      <td>29072.86</td>\n",
              "      <td>26.0</td>\n",
              "      <td>733.970000</td>\n",
              "      <td>3.0</td>\n",
              "      <td>3</td>\n",
              "      <td>0</td>\n",
              "      <td>0</td>\n",
              "      <td>0</td>\n",
              "      <td>4</td>\n",
              "      <td>0</td>\n",
              "      <td>0</td>\n",
              "      <td>2</td>\n",
              "      <td>1</td>\n",
              "    </tr>\n",
              "    <tr>\n",
              "      <th>18</th>\n",
              "      <td>9.0</td>\n",
              "      <td>241.74</td>\n",
              "      <td>33170.16</td>\n",
              "      <td>6.0</td>\n",
              "      <td>551.110000</td>\n",
              "      <td>5.0</td>\n",
              "      <td>5</td>\n",
              "      <td>1</td>\n",
              "      <td>0</td>\n",
              "      <td>1</td>\n",
              "      <td>6</td>\n",
              "      <td>1</td>\n",
              "      <td>1</td>\n",
              "      <td>3</td>\n",
              "      <td>0</td>\n",
              "    </tr>\n",
              "    <tr>\n",
              "      <th>19</th>\n",
              "      <td>14.0</td>\n",
              "      <td>31.15</td>\n",
              "      <td>66982.61</td>\n",
              "      <td>8.0</td>\n",
              "      <td>164.800769</td>\n",
              "      <td>2.0</td>\n",
              "      <td>1</td>\n",
              "      <td>2</td>\n",
              "      <td>0</td>\n",
              "      <td>1</td>\n",
              "      <td>0</td>\n",
              "      <td>4</td>\n",
              "      <td>3</td>\n",
              "      <td>2</td>\n",
              "      <td>2</td>\n",
              "    </tr>\n",
              "    <tr>\n",
              "      <th>20</th>\n",
              "      <td>15.0</td>\n",
              "      <td>49.86</td>\n",
              "      <td>44289.97</td>\n",
              "      <td>25.0</td>\n",
              "      <td>703.960000</td>\n",
              "      <td>4.0</td>\n",
              "      <td>5</td>\n",
              "      <td>2</td>\n",
              "      <td>0</td>\n",
              "      <td>0</td>\n",
              "      <td>4</td>\n",
              "      <td>0</td>\n",
              "      <td>1</td>\n",
              "      <td>1</td>\n",
              "      <td>1</td>\n",
              "    </tr>\n",
              "    <tr>\n",
              "      <th>21</th>\n",
              "      <td>21.0</td>\n",
              "      <td>30.37</td>\n",
              "      <td>49404.86</td>\n",
              "      <td>23.0</td>\n",
              "      <td>630.610000</td>\n",
              "      <td>5.0</td>\n",
              "      <td>5</td>\n",
              "      <td>0</td>\n",
              "      <td>0</td>\n",
              "      <td>1</td>\n",
              "      <td>5</td>\n",
              "      <td>1</td>\n",
              "      <td>2</td>\n",
              "      <td>3</td>\n",
              "      <td>2</td>\n",
              "    </tr>\n",
              "    <tr>\n",
              "      <th>22</th>\n",
              "      <td>15.0</td>\n",
              "      <td>483.03</td>\n",
              "      <td>52702.67</td>\n",
              "      <td>3.0</td>\n",
              "      <td>389.356443</td>\n",
              "      <td>2.0</td>\n",
              "      <td>0</td>\n",
              "      <td>0</td>\n",
              "      <td>1</td>\n",
              "      <td>1</td>\n",
              "      <td>3</td>\n",
              "      <td>1</td>\n",
              "      <td>0</td>\n",
              "      <td>2</td>\n",
              "      <td>2</td>\n",
              "    </tr>\n",
              "    <tr>\n",
              "      <th>23</th>\n",
              "      <td>12.0</td>\n",
              "      <td>72.52</td>\n",
              "      <td>15860.41</td>\n",
              "      <td>3.2073857931601104</td>\n",
              "      <td>529.030000</td>\n",
              "      <td>1.0</td>\n",
              "      <td>4</td>\n",
              "      <td>2</td>\n",
              "      <td>1</td>\n",
              "      <td>0</td>\n",
              "      <td>6</td>\n",
              "      <td>0</td>\n",
              "      <td>3</td>\n",
              "      <td>3</td>\n",
              "      <td>0</td>\n",
              "    </tr>\n",
              "    <tr>\n",
              "      <th>24</th>\n",
              "      <td>17.0</td>\n",
              "      <td>108.30</td>\n",
              "      <td>21725.57</td>\n",
              "      <td>21.0</td>\n",
              "      <td>225.004428</td>\n",
              "      <td>4.0</td>\n",
              "      <td>5</td>\n",
              "      <td>1</td>\n",
              "      <td>1</td>\n",
              "      <td>0</td>\n",
              "      <td>5</td>\n",
              "      <td>0</td>\n",
              "      <td>3</td>\n",
              "      <td>1</td>\n",
              "      <td>0</td>\n",
              "    </tr>\n",
              "  </tbody>\n",
              "</table>\n",
              "</div>\n",
              "      <button class=\"colab-df-convert\" onclick=\"convertToInteractive('df-836f87bb-8df1-460f-8607-7e75f901d137')\"\n",
              "              title=\"Convert this dataframe to an interactive table.\"\n",
              "              style=\"display:none;\">\n",
              "        \n",
              "  <svg xmlns=\"http://www.w3.org/2000/svg\" height=\"24px\"viewBox=\"0 0 24 24\"\n",
              "       width=\"24px\">\n",
              "    <path d=\"M0 0h24v24H0V0z\" fill=\"none\"/>\n",
              "    <path d=\"M18.56 5.44l.94 2.06.94-2.06 2.06-.94-2.06-.94-.94-2.06-.94 2.06-2.06.94zm-11 1L8.5 8.5l.94-2.06 2.06-.94-2.06-.94L8.5 2.5l-.94 2.06-2.06.94zm10 10l.94 2.06.94-2.06 2.06-.94-2.06-.94-.94-2.06-.94 2.06-2.06.94z\"/><path d=\"M17.41 7.96l-1.37-1.37c-.4-.4-.92-.59-1.43-.59-.52 0-1.04.2-1.43.59L10.3 9.45l-7.72 7.72c-.78.78-.78 2.05 0 2.83L4 21.41c.39.39.9.59 1.41.59.51 0 1.02-.2 1.41-.59l7.78-7.78 2.81-2.81c.8-.78.8-2.07 0-2.86zM5.41 20L4 18.59l7.72-7.72 1.47 1.35L5.41 20z\"/>\n",
              "  </svg>\n",
              "      </button>\n",
              "      \n",
              "  <style>\n",
              "    .colab-df-container {\n",
              "      display:flex;\n",
              "      flex-wrap:wrap;\n",
              "      gap: 12px;\n",
              "    }\n",
              "\n",
              "    .colab-df-convert {\n",
              "      background-color: #E8F0FE;\n",
              "      border: none;\n",
              "      border-radius: 50%;\n",
              "      cursor: pointer;\n",
              "      display: none;\n",
              "      fill: #1967D2;\n",
              "      height: 32px;\n",
              "      padding: 0 0 0 0;\n",
              "      width: 32px;\n",
              "    }\n",
              "\n",
              "    .colab-df-convert:hover {\n",
              "      background-color: #E2EBFA;\n",
              "      box-shadow: 0px 1px 2px rgba(60, 64, 67, 0.3), 0px 1px 3px 1px rgba(60, 64, 67, 0.15);\n",
              "      fill: #174EA6;\n",
              "    }\n",
              "\n",
              "    [theme=dark] .colab-df-convert {\n",
              "      background-color: #3B4455;\n",
              "      fill: #D2E3FC;\n",
              "    }\n",
              "\n",
              "    [theme=dark] .colab-df-convert:hover {\n",
              "      background-color: #434B5C;\n",
              "      box-shadow: 0px 1px 3px 1px rgba(0, 0, 0, 0.15);\n",
              "      filter: drop-shadow(0px 1px 2px rgba(0, 0, 0, 0.3));\n",
              "      fill: #FFFFFF;\n",
              "    }\n",
              "  </style>\n",
              "\n",
              "      <script>\n",
              "        const buttonEl =\n",
              "          document.querySelector('#df-836f87bb-8df1-460f-8607-7e75f901d137 button.colab-df-convert');\n",
              "        buttonEl.style.display =\n",
              "          google.colab.kernel.accessAllowed ? 'block' : 'none';\n",
              "\n",
              "        async function convertToInteractive(key) {\n",
              "          const element = document.querySelector('#df-836f87bb-8df1-460f-8607-7e75f901d137');\n",
              "          const dataTable =\n",
              "            await google.colab.kernel.invokeFunction('convertToInteractive',\n",
              "                                                     [key], {});\n",
              "          if (!dataTable) return;\n",
              "\n",
              "          const docLinkHtml = 'Like what you see? Visit the ' +\n",
              "            '<a target=\"_blank\" href=https://colab.research.google.com/notebooks/data_table.ipynb>data table notebook</a>'\n",
              "            + ' to learn more about interactive tables.';\n",
              "          element.innerHTML = '';\n",
              "          dataTable['output_type'] = 'display_data';\n",
              "          await google.colab.output.renderOutput(dataTable, element);\n",
              "          const docLink = document.createElement('div');\n",
              "          docLink.innerHTML = docLinkHtml;\n",
              "          element.appendChild(docLink);\n",
              "        }\n",
              "      </script>\n",
              "    </div>\n",
              "  </div>\n",
              "  "
            ]
          },
          "metadata": {},
          "execution_count": 37
        }
      ]
    },
    {
      "cell_type": "code",
      "source": [
        "val = new_churn[~(new_churn['avg_frequency_login_days'] == 'Error')]['avg_frequency_login_days'].astype('float64').mean()\n",
        "new_churn['avg_frequency_login_days'].replace('Error', str(val), inplace=True)"
      ],
      "metadata": {
        "id": "Om4E6knU0hIA"
      },
      "execution_count": 38,
      "outputs": []
    },
    {
      "cell_type": "code",
      "source": [
        "new_churn['avg_frequency_login_days'] = pd.to_numeric(new_churn['avg_frequency_login_days'])\n",
        "new_churn['age_category-encoded'] = pd.to_numeric(new_churn['age_category-encoded'])"
      ],
      "metadata": {
        "id": "UyBYBUqxAB76"
      },
      "execution_count": 39,
      "outputs": []
    },
    {
      "cell_type": "code",
      "source": [
        "new_churn.info()"
      ],
      "metadata": {
        "colab": {
          "base_uri": "https://localhost:8080/"
        },
        "id": "nzzsmnKm7ht5",
        "outputId": "c01e64d8-8ae4-4ad8-8de1-a2758436f96c"
      },
      "execution_count": 40,
      "outputs": [
        {
          "output_type": "stream",
          "name": "stdout",
          "text": [
            "<class 'pandas.core.frame.DataFrame'>\n",
            "Int64Index: 12054 entries, 0 to 13366\n",
            "Data columns (total 15 columns):\n",
            " #   Column                         Non-Null Count  Dtype  \n",
            "---  ------                         --------------  -----  \n",
            " 0   days_since_last_login          12054 non-null  float64\n",
            " 1   avg_time_spent                 12054 non-null  float64\n",
            " 2   avg_transaction_value          12054 non-null  float64\n",
            " 3   avg_frequency_login_days       12054 non-null  float64\n",
            " 4   points_in_wallet               12054 non-null  float64\n",
            " 5   churn_risk_score               12054 non-null  float64\n",
            " 6   membership_category-encoded    12054 non-null  int64  \n",
            " 7   preferred_offer_types-encoded  12054 non-null  int64  \n",
            " 8   used_special_discount-encoded  12054 non-null  int64  \n",
            " 9   past_complaint-encoded         12054 non-null  int64  \n",
            " 10  feedback-encoded               12054 non-null  int64  \n",
            " 11  complaint_status-encoded       12054 non-null  int64  \n",
            " 12  age_category-encoded           12054 non-null  int64  \n",
            " 13  medium_of_operation-encoded    12054 non-null  int64  \n",
            " 14  internet_option-encoded        12054 non-null  int64  \n",
            "dtypes: float64(6), int64(9)\n",
            "memory usage: 1.5 MB\n"
          ]
        }
      ]
    },
    {
      "cell_type": "markdown",
      "source": [
        "## Scaling"
      ],
      "metadata": {
        "id": "o2Qoy4s9J3ai"
      }
    },
    {
      "cell_type": "code",
      "source": [
        "scaled_cols = ['days_since_last_login', 'avg_time_spent', 'avg_transaction_value',\n",
        "               'avg_frequency_login_days', 'points_in_wallet']"
      ],
      "metadata": {
        "id": "AZpBWU4jKORr"
      },
      "execution_count": 41,
      "outputs": []
    },
    {
      "cell_type": "code",
      "source": [
        "scaler = MinMaxScaler()\n",
        "new_churn[scaled_cols] = scaler.fit_transform(new_churn[scaled_cols])"
      ],
      "metadata": {
        "id": "Hrx6kWfTTpoy"
      },
      "execution_count": 42,
      "outputs": []
    },
    {
      "cell_type": "code",
      "source": [
        "new_churn"
      ],
      "metadata": {
        "colab": {
          "base_uri": "https://localhost:8080/",
          "height": 505
        },
        "id": "De-4qEgwT8hU",
        "outputId": "58c793a2-0979-4304-e8d4-e62616c69b7e"
      },
      "execution_count": 43,
      "outputs": [
        {
          "output_type": "execute_result",
          "data": {
            "text/plain": [
              "       days_since_last_login  avg_time_spent  avg_transaction_value  \\\n",
              "0                   0.991220        0.492530               0.527238   \n",
              "2                   0.988293        0.536812               0.204241   \n",
              "3                   0.985366        0.441707               0.246790   \n",
              "4                   0.994146        0.454006               0.239155   \n",
              "5                   0.997073        0.519854               0.132100   \n",
              "...                      ...             ...                    ...   \n",
              "13362               0.983415        0.484416               0.089782   \n",
              "13363               0.979512        0.602629               0.385270   \n",
              "13364               0.986341        0.543773               0.438824   \n",
              "13365               0.978537        0.456346               0.093620   \n",
              "13366               0.988293        0.490518               0.553126   \n",
              "\n",
              "       avg_frequency_login_days  points_in_wallet  churn_risk_score  \\\n",
              "0                      0.565916          0.576646               2.0   \n",
              "2                      0.612568          0.454889               5.0   \n",
              "3                      0.463281          0.483901               5.0   \n",
              "4                      0.556585          0.525229               5.0   \n",
              "5                      0.631229          0.550879               3.0   \n",
              "...                         ...               ...               ...   \n",
              "13362                  0.528594          0.586731               1.0   \n",
              "13363                  0.556346          0.512120               4.0   \n",
              "13364                  0.649889          0.513602               4.0   \n",
              "13365                  0.500603          0.503850               5.0   \n",
              "13366                  0.188328          0.558166               2.0   \n",
              "\n",
              "       membership_category-encoded  preferred_offer_types-encoded  \\\n",
              "0                                0                              0   \n",
              "2                                5                              0   \n",
              "3                                5                              0   \n",
              "4                                5                              1   \n",
              "5                                2                              0   \n",
              "...                            ...                            ...   \n",
              "13362                            1                              0   \n",
              "13363                            4                              2   \n",
              "13364                            3                              2   \n",
              "13365                            4                              0   \n",
              "13366                            0                              1   \n",
              "\n",
              "       used_special_discount-encoded  past_complaint-encoded  \\\n",
              "0                                  0                       0   \n",
              "2                                  1                       1   \n",
              "3                                  1                       1   \n",
              "4                                  1                       1   \n",
              "5                                  0                       1   \n",
              "...                              ...                     ...   \n",
              "13362                              0                       1   \n",
              "13363                              0                       1   \n",
              "13364                              0                       0   \n",
              "13365                              1                       0   \n",
              "13366                              0                       1   \n",
              "\n",
              "       feedback-encoded  complaint_status-encoded  age_category-encoded  \\\n",
              "0                     0                         0                     0   \n",
              "2                     5                         3                     3   \n",
              "3                     5                         4                     1   \n",
              "4                     5                         2                     2   \n",
              "5                     6                         4                     0   \n",
              "...                 ...                       ...                   ...   \n",
              "13362                 1                         1                     4   \n",
              "13363                 4                         1                     4   \n",
              "13364                 8                         0                     4   \n",
              "13365                 6                         0                     1   \n",
              "13366                 3                         3                     0   \n",
              "\n",
              "       medium_of_operation-encoded  internet_option-encoded  \n",
              "0                                2                        1  \n",
              "2                                1                        1  \n",
              "3                                1                        2  \n",
              "4                                3                        2  \n",
              "5                                2                        1  \n",
              "...                            ...                      ...  \n",
              "13362                            1                        2  \n",
              "13363                            3                        1  \n",
              "13364                            2                        2  \n",
              "13365                            3                        2  \n",
              "13366                            3                        1  \n",
              "\n",
              "[12054 rows x 15 columns]"
            ],
            "text/html": [
              "\n",
              "  <div id=\"df-92919697-5fce-43e0-bc44-a1873470de28\">\n",
              "    <div class=\"colab-df-container\">\n",
              "      <div>\n",
              "<style scoped>\n",
              "    .dataframe tbody tr th:only-of-type {\n",
              "        vertical-align: middle;\n",
              "    }\n",
              "\n",
              "    .dataframe tbody tr th {\n",
              "        vertical-align: top;\n",
              "    }\n",
              "\n",
              "    .dataframe thead th {\n",
              "        text-align: right;\n",
              "    }\n",
              "</style>\n",
              "<table border=\"1\" class=\"dataframe\">\n",
              "  <thead>\n",
              "    <tr style=\"text-align: right;\">\n",
              "      <th></th>\n",
              "      <th>days_since_last_login</th>\n",
              "      <th>avg_time_spent</th>\n",
              "      <th>avg_transaction_value</th>\n",
              "      <th>avg_frequency_login_days</th>\n",
              "      <th>points_in_wallet</th>\n",
              "      <th>churn_risk_score</th>\n",
              "      <th>membership_category-encoded</th>\n",
              "      <th>preferred_offer_types-encoded</th>\n",
              "      <th>used_special_discount-encoded</th>\n",
              "      <th>past_complaint-encoded</th>\n",
              "      <th>feedback-encoded</th>\n",
              "      <th>complaint_status-encoded</th>\n",
              "      <th>age_category-encoded</th>\n",
              "      <th>medium_of_operation-encoded</th>\n",
              "      <th>internet_option-encoded</th>\n",
              "    </tr>\n",
              "  </thead>\n",
              "  <tbody>\n",
              "    <tr>\n",
              "      <th>0</th>\n",
              "      <td>0.991220</td>\n",
              "      <td>0.492530</td>\n",
              "      <td>0.527238</td>\n",
              "      <td>0.565916</td>\n",
              "      <td>0.576646</td>\n",
              "      <td>2.0</td>\n",
              "      <td>0</td>\n",
              "      <td>0</td>\n",
              "      <td>0</td>\n",
              "      <td>0</td>\n",
              "      <td>0</td>\n",
              "      <td>0</td>\n",
              "      <td>0</td>\n",
              "      <td>2</td>\n",
              "      <td>1</td>\n",
              "    </tr>\n",
              "    <tr>\n",
              "      <th>2</th>\n",
              "      <td>0.988293</td>\n",
              "      <td>0.536812</td>\n",
              "      <td>0.204241</td>\n",
              "      <td>0.612568</td>\n",
              "      <td>0.454889</td>\n",
              "      <td>5.0</td>\n",
              "      <td>5</td>\n",
              "      <td>0</td>\n",
              "      <td>1</td>\n",
              "      <td>1</td>\n",
              "      <td>5</td>\n",
              "      <td>3</td>\n",
              "      <td>3</td>\n",
              "      <td>1</td>\n",
              "      <td>1</td>\n",
              "    </tr>\n",
              "    <tr>\n",
              "      <th>3</th>\n",
              "      <td>0.985366</td>\n",
              "      <td>0.441707</td>\n",
              "      <td>0.246790</td>\n",
              "      <td>0.463281</td>\n",
              "      <td>0.483901</td>\n",
              "      <td>5.0</td>\n",
              "      <td>5</td>\n",
              "      <td>0</td>\n",
              "      <td>1</td>\n",
              "      <td>1</td>\n",
              "      <td>5</td>\n",
              "      <td>4</td>\n",
              "      <td>1</td>\n",
              "      <td>1</td>\n",
              "      <td>2</td>\n",
              "    </tr>\n",
              "    <tr>\n",
              "      <th>4</th>\n",
              "      <td>0.994146</td>\n",
              "      <td>0.454006</td>\n",
              "      <td>0.239155</td>\n",
              "      <td>0.556585</td>\n",
              "      <td>0.525229</td>\n",
              "      <td>5.0</td>\n",
              "      <td>5</td>\n",
              "      <td>1</td>\n",
              "      <td>1</td>\n",
              "      <td>1</td>\n",
              "      <td>5</td>\n",
              "      <td>2</td>\n",
              "      <td>2</td>\n",
              "      <td>3</td>\n",
              "      <td>2</td>\n",
              "    </tr>\n",
              "    <tr>\n",
              "      <th>5</th>\n",
              "      <td>0.997073</td>\n",
              "      <td>0.519854</td>\n",
              "      <td>0.132100</td>\n",
              "      <td>0.631229</td>\n",
              "      <td>0.550879</td>\n",
              "      <td>3.0</td>\n",
              "      <td>2</td>\n",
              "      <td>0</td>\n",
              "      <td>0</td>\n",
              "      <td>1</td>\n",
              "      <td>6</td>\n",
              "      <td>4</td>\n",
              "      <td>0</td>\n",
              "      <td>2</td>\n",
              "      <td>1</td>\n",
              "    </tr>\n",
              "    <tr>\n",
              "      <th>...</th>\n",
              "      <td>...</td>\n",
              "      <td>...</td>\n",
              "      <td>...</td>\n",
              "      <td>...</td>\n",
              "      <td>...</td>\n",
              "      <td>...</td>\n",
              "      <td>...</td>\n",
              "      <td>...</td>\n",
              "      <td>...</td>\n",
              "      <td>...</td>\n",
              "      <td>...</td>\n",
              "      <td>...</td>\n",
              "      <td>...</td>\n",
              "      <td>...</td>\n",
              "      <td>...</td>\n",
              "    </tr>\n",
              "    <tr>\n",
              "      <th>13362</th>\n",
              "      <td>0.983415</td>\n",
              "      <td>0.484416</td>\n",
              "      <td>0.089782</td>\n",
              "      <td>0.528594</td>\n",
              "      <td>0.586731</td>\n",
              "      <td>1.0</td>\n",
              "      <td>1</td>\n",
              "      <td>0</td>\n",
              "      <td>0</td>\n",
              "      <td>1</td>\n",
              "      <td>1</td>\n",
              "      <td>1</td>\n",
              "      <td>4</td>\n",
              "      <td>1</td>\n",
              "      <td>2</td>\n",
              "    </tr>\n",
              "    <tr>\n",
              "      <th>13363</th>\n",
              "      <td>0.979512</td>\n",
              "      <td>0.602629</td>\n",
              "      <td>0.385270</td>\n",
              "      <td>0.556346</td>\n",
              "      <td>0.512120</td>\n",
              "      <td>4.0</td>\n",
              "      <td>4</td>\n",
              "      <td>2</td>\n",
              "      <td>0</td>\n",
              "      <td>1</td>\n",
              "      <td>4</td>\n",
              "      <td>1</td>\n",
              "      <td>4</td>\n",
              "      <td>3</td>\n",
              "      <td>1</td>\n",
              "    </tr>\n",
              "    <tr>\n",
              "      <th>13364</th>\n",
              "      <td>0.986341</td>\n",
              "      <td>0.543773</td>\n",
              "      <td>0.438824</td>\n",
              "      <td>0.649889</td>\n",
              "      <td>0.513602</td>\n",
              "      <td>4.0</td>\n",
              "      <td>3</td>\n",
              "      <td>2</td>\n",
              "      <td>0</td>\n",
              "      <td>0</td>\n",
              "      <td>8</td>\n",
              "      <td>0</td>\n",
              "      <td>4</td>\n",
              "      <td>2</td>\n",
              "      <td>2</td>\n",
              "    </tr>\n",
              "    <tr>\n",
              "      <th>13365</th>\n",
              "      <td>0.978537</td>\n",
              "      <td>0.456346</td>\n",
              "      <td>0.093620</td>\n",
              "      <td>0.500603</td>\n",
              "      <td>0.503850</td>\n",
              "      <td>5.0</td>\n",
              "      <td>4</td>\n",
              "      <td>0</td>\n",
              "      <td>1</td>\n",
              "      <td>0</td>\n",
              "      <td>6</td>\n",
              "      <td>0</td>\n",
              "      <td>1</td>\n",
              "      <td>3</td>\n",
              "      <td>2</td>\n",
              "    </tr>\n",
              "    <tr>\n",
              "      <th>13366</th>\n",
              "      <td>0.988293</td>\n",
              "      <td>0.490518</td>\n",
              "      <td>0.553126</td>\n",
              "      <td>0.188328</td>\n",
              "      <td>0.558166</td>\n",
              "      <td>2.0</td>\n",
              "      <td>0</td>\n",
              "      <td>1</td>\n",
              "      <td>0</td>\n",
              "      <td>1</td>\n",
              "      <td>3</td>\n",
              "      <td>3</td>\n",
              "      <td>0</td>\n",
              "      <td>3</td>\n",
              "      <td>1</td>\n",
              "    </tr>\n",
              "  </tbody>\n",
              "</table>\n",
              "<p>12054 rows × 15 columns</p>\n",
              "</div>\n",
              "      <button class=\"colab-df-convert\" onclick=\"convertToInteractive('df-92919697-5fce-43e0-bc44-a1873470de28')\"\n",
              "              title=\"Convert this dataframe to an interactive table.\"\n",
              "              style=\"display:none;\">\n",
              "        \n",
              "  <svg xmlns=\"http://www.w3.org/2000/svg\" height=\"24px\"viewBox=\"0 0 24 24\"\n",
              "       width=\"24px\">\n",
              "    <path d=\"M0 0h24v24H0V0z\" fill=\"none\"/>\n",
              "    <path d=\"M18.56 5.44l.94 2.06.94-2.06 2.06-.94-2.06-.94-.94-2.06-.94 2.06-2.06.94zm-11 1L8.5 8.5l.94-2.06 2.06-.94-2.06-.94L8.5 2.5l-.94 2.06-2.06.94zm10 10l.94 2.06.94-2.06 2.06-.94-2.06-.94-.94-2.06-.94 2.06-2.06.94z\"/><path d=\"M17.41 7.96l-1.37-1.37c-.4-.4-.92-.59-1.43-.59-.52 0-1.04.2-1.43.59L10.3 9.45l-7.72 7.72c-.78.78-.78 2.05 0 2.83L4 21.41c.39.39.9.59 1.41.59.51 0 1.02-.2 1.41-.59l7.78-7.78 2.81-2.81c.8-.78.8-2.07 0-2.86zM5.41 20L4 18.59l7.72-7.72 1.47 1.35L5.41 20z\"/>\n",
              "  </svg>\n",
              "      </button>\n",
              "      \n",
              "  <style>\n",
              "    .colab-df-container {\n",
              "      display:flex;\n",
              "      flex-wrap:wrap;\n",
              "      gap: 12px;\n",
              "    }\n",
              "\n",
              "    .colab-df-convert {\n",
              "      background-color: #E8F0FE;\n",
              "      border: none;\n",
              "      border-radius: 50%;\n",
              "      cursor: pointer;\n",
              "      display: none;\n",
              "      fill: #1967D2;\n",
              "      height: 32px;\n",
              "      padding: 0 0 0 0;\n",
              "      width: 32px;\n",
              "    }\n",
              "\n",
              "    .colab-df-convert:hover {\n",
              "      background-color: #E2EBFA;\n",
              "      box-shadow: 0px 1px 2px rgba(60, 64, 67, 0.3), 0px 1px 3px 1px rgba(60, 64, 67, 0.15);\n",
              "      fill: #174EA6;\n",
              "    }\n",
              "\n",
              "    [theme=dark] .colab-df-convert {\n",
              "      background-color: #3B4455;\n",
              "      fill: #D2E3FC;\n",
              "    }\n",
              "\n",
              "    [theme=dark] .colab-df-convert:hover {\n",
              "      background-color: #434B5C;\n",
              "      box-shadow: 0px 1px 3px 1px rgba(0, 0, 0, 0.15);\n",
              "      filter: drop-shadow(0px 1px 2px rgba(0, 0, 0, 0.3));\n",
              "      fill: #FFFFFF;\n",
              "    }\n",
              "  </style>\n",
              "\n",
              "      <script>\n",
              "        const buttonEl =\n",
              "          document.querySelector('#df-92919697-5fce-43e0-bc44-a1873470de28 button.colab-df-convert');\n",
              "        buttonEl.style.display =\n",
              "          google.colab.kernel.accessAllowed ? 'block' : 'none';\n",
              "\n",
              "        async function convertToInteractive(key) {\n",
              "          const element = document.querySelector('#df-92919697-5fce-43e0-bc44-a1873470de28');\n",
              "          const dataTable =\n",
              "            await google.colab.kernel.invokeFunction('convertToInteractive',\n",
              "                                                     [key], {});\n",
              "          if (!dataTable) return;\n",
              "\n",
              "          const docLinkHtml = 'Like what you see? Visit the ' +\n",
              "            '<a target=\"_blank\" href=https://colab.research.google.com/notebooks/data_table.ipynb>data table notebook</a>'\n",
              "            + ' to learn more about interactive tables.';\n",
              "          element.innerHTML = '';\n",
              "          dataTable['output_type'] = 'display_data';\n",
              "          await google.colab.output.renderOutput(dataTable, element);\n",
              "          const docLink = document.createElement('div');\n",
              "          docLink.innerHTML = docLinkHtml;\n",
              "          element.appendChild(docLink);\n",
              "        }\n",
              "      </script>\n",
              "    </div>\n",
              "  </div>\n",
              "  "
            ]
          },
          "metadata": {},
          "execution_count": 43
        }
      ]
    },
    {
      "cell_type": "code",
      "source": [
        "new_churn.boxplot(column=['days_since_last_login', 'avg_time_spent', 'avg_transaction_value',\n",
        "               'avg_frequency_login_days', 'points_in_wallet'])\n",
        "plt.xticks(rotation=90)"
      ],
      "metadata": {
        "colab": {
          "base_uri": "https://localhost:8080/",
          "height": 404
        },
        "id": "1S5CXp-HqfFj",
        "outputId": "4d3ca1d1-bf28-4210-b275-76d8b7990bfe"
      },
      "execution_count": 69,
      "outputs": [
        {
          "output_type": "execute_result",
          "data": {
            "text/plain": [
              "(array([1, 2, 3, 4, 5]), <a list of 5 Text major ticklabel objects>)"
            ]
          },
          "metadata": {},
          "execution_count": 69
        },
        {
          "output_type": "display_data",
          "data": {
            "text/plain": [
              "<Figure size 432x288 with 1 Axes>"
            ],
            "image/png": "[encoded data removed]"
          },
          "metadata": {
            "needs_background": "light"
          }
        }
      ]
    },
    {
      "cell_type": "code",
      "source": [
        "X = new_churn.drop(columns=['churn_risk_score'])\n",
        "y = new_churn['churn_risk_score']"
      ],
      "metadata": {
        "id": "4PRgAHTNsx0g"
      },
      "execution_count": 45,
      "outputs": []
    },
    {
      "cell_type": "code",
      "source": [
        "X.columns"
      ],
      "metadata": {
        "colab": {
          "base_uri": "https://localhost:8080/"
        },
        "id": "3HN1LgoltoT0",
        "outputId": "99d54ebe-821f-49d7-acf6-04447432b8c8"
      },
      "execution_count": 46,
      "outputs": [
        {
          "output_type": "execute_result",
          "data": {
            "text/plain": [
              "Index(['days_since_last_login', 'avg_time_spent', 'avg_transaction_value',\n",
              "       'avg_frequency_login_days', 'points_in_wallet',\n",
              "       'membership_category-encoded', 'preferred_offer_types-encoded',\n",
              "       'used_special_discount-encoded', 'past_complaint-encoded',\n",
              "       'feedback-encoded', 'complaint_status-encoded', 'age_category-encoded',\n",
              "       'medium_of_operation-encoded', 'internet_option-encoded'],\n",
              "      dtype='object')"
            ]
          },
          "metadata": {},
          "execution_count": 46
        }
      ]
    },
    {
      "cell_type": "markdown",
      "source": [
        "# Mutual Info gain and Chi square Test"
      ],
      "metadata": {
        "id": "zYFctAlEBV34"
      }
    },
    {
      "cell_type": "code",
      "source": [
        "X_cat = ['membership_category-encoded', 'preferred_offer_types-encoded',\n",
        "         'used_special_discount-encoded', 'past_complaint-encoded',\n",
        "         'feedback-encoded', 'complaint_status-encoded', 'age_category-encoded',\n",
        "         'medium_of_operation-encoded', 'internet_option-encoded']\n",
        "\n",
        "X_num = ['days_since_last_login', 'avg_time_spent', 'avg_transaction_value',\n",
        "         'avg_frequency_login_days', 'points_in_wallet']"
      ],
      "metadata": {
        "id": "4ByhSjhPtjum"
      },
      "execution_count": 47,
      "outputs": []
    },
    {
      "cell_type": "code",
      "source": [
        "mutual_info = mutual_info_classif(X[X_cat],y)\n",
        "mutual_info"
      ],
      "metadata": {
        "colab": {
          "base_uri": "https://localhost:8080/"
        },
        "id": "8Nbf0-D4sxxO",
        "outputId": "86882bd2-4453-467a-ca83-c6115590f531"
      },
      "execution_count": 48,
      "outputs": [
        {
          "output_type": "execute_result",
          "data": {
            "text/plain": [
              "array([0.54298902, 0.00336076, 0.        , 0.00467747, 0.36350936,\n",
              "       0.01016553, 0.        , 0.        , 0.00167308])"
            ]
          },
          "metadata": {},
          "execution_count": 48
        }
      ]
    },
    {
      "cell_type": "code",
      "source": [
        "mi = pd.Series(mutual_info)\n",
        "mi.index = X_cat\n",
        "mi.sort_values(ascending=False)"
      ],
      "metadata": {
        "colab": {
          "base_uri": "https://localhost:8080/"
        },
        "id": "6_RVV_thsxt7",
        "outputId": "ea43bf7e-4ac0-4d77-d1cc-f6cef6258fcb"
      },
      "execution_count": 49,
      "outputs": [
        {
          "output_type": "execute_result",
          "data": {
            "text/plain": [
              "membership_category-encoded      0.542989\n",
              "feedback-encoded                 0.363509\n",
              "complaint_status-encoded         0.010166\n",
              "past_complaint-encoded           0.004677\n",
              "preferred_offer_types-encoded    0.003361\n",
              "internet_option-encoded          0.001673\n",
              "used_special_discount-encoded    0.000000\n",
              "age_category-encoded             0.000000\n",
              "medium_of_operation-encoded      0.000000\n",
              "dtype: float64"
            ]
          },
          "metadata": {},
          "execution_count": 49
        }
      ]
    },
    {
      "cell_type": "code",
      "source": [
        "chi_test = chi2(X[X_cat],y)\n",
        "chi_test"
      ],
      "metadata": {
        "colab": {
          "base_uri": "https://localhost:8080/"
        },
        "id": "n26b_P_asxqs",
        "outputId": "72ae5c59-ade7-4170-9b1a-4444023ab7fe"
      },
      "execution_count": 50,
      "outputs": [
        {
          "output_type": "execute_result",
          "data": {
            "text/plain": [
              "(array([7.29126249e+03, 5.96224541e+01, 4.61924866e+00, 9.88670948e+00,\n",
              "        5.02913674e+03, 3.12772748e+01, 5.12440531e+00, 1.69308379e+01,\n",
              "        1.72417617e+00]),\n",
              " array([0.00000000e+00, 3.48223117e-12, 3.28640891e-01, 4.23799038e-02,\n",
              "        0.00000000e+00, 2.68747123e-06, 2.74769263e-01, 1.99367844e-03,\n",
              "        7.86321451e-01]))"
            ]
          },
          "metadata": {},
          "execution_count": 50
        }
      ]
    },
    {
      "cell_type": "code",
      "source": [
        "chi = pd.Series(chi_test[1])\n",
        "chi.index = X_cat\n",
        "chi.sort_values(ascending=True)"
      ],
      "metadata": {
        "colab": {
          "base_uri": "https://localhost:8080/"
        },
        "id": "OnL65iWxsxnB",
        "outputId": "4e606652-10c4-4aba-d12d-00a09a748e70"
      },
      "execution_count": 51,
      "outputs": [
        {
          "output_type": "execute_result",
          "data": {
            "text/plain": [
              "membership_category-encoded      0.000000e+00\n",
              "feedback-encoded                 0.000000e+00\n",
              "preferred_offer_types-encoded    3.482231e-12\n",
              "complaint_status-encoded         2.687471e-06\n",
              "medium_of_operation-encoded      1.993678e-03\n",
              "past_complaint-encoded           4.237990e-02\n",
              "age_category-encoded             2.747693e-01\n",
              "used_special_discount-encoded    3.286409e-01\n",
              "internet_option-encoded          7.863215e-01\n",
              "dtype: float64"
            ]
          },
          "metadata": {},
          "execution_count": 51
        }
      ]
    },
    {
      "cell_type": "markdown",
      "source": [
        "# Train-Test Split\n",
        "With selected features based on above test"
      ],
      "metadata": {
        "id": "zMdCBvqdBn8S"
      }
    },
    {
      "cell_type": "code",
      "source": [
        "X = new_churn[['days_since_last_login', 'avg_time_spent', 'avg_transaction_value',\n",
        "       'avg_frequency_login_days', 'points_in_wallet','membership_category-encoded', 'preferred_offer_types-encoded',\n",
        "         'feedback-encoded', 'complaint_status-encoded', 'age_category-encoded',]]\n",
        "\n",
        "X_train, X_test, y_train, y_test = train_test_split(X,y,test_size=0.3,random_state=42)"
      ],
      "metadata": {
        "id": "f3is0_RZT9o_"
      },
      "execution_count": 52,
      "outputs": []
    },
    {
      "cell_type": "code",
      "source": [
        "X_train.shape"
      ],
      "metadata": {
        "colab": {
          "base_uri": "https://localhost:8080/"
        },
        "id": "vvLnIWypXahx",
        "outputId": "87289812-c160-42c0-b9cb-502f4f83d006"
      },
      "execution_count": 53,
      "outputs": [
        {
          "output_type": "execute_result",
          "data": {
            "text/plain": [
              "(8437, 10)"
            ]
          },
          "metadata": {},
          "execution_count": 53
        }
      ]
    },
    {
      "cell_type": "code",
      "source": [
        "cross_val_score(RandomForestClassifier(n_estimators = 100, criterion = 'entropy', min_samples_leaf = 2, random_state = 42),\n",
        "                X, y, cv = 5).mean()"
      ],
      "metadata": {
        "colab": {
          "base_uri": "https://localhost:8080/"
        },
        "id": "jQ1XsjxaiUcR",
        "outputId": "e0537f39-4022-47fb-a933-b5da4a51b4a6"
      },
      "execution_count": 54,
      "outputs": [
        {
          "output_type": "execute_result",
          "data": {
            "text/plain": [
              "0.7675450864037752"
            ]
          },
          "metadata": {},
          "execution_count": 54
        }
      ]
    },
    {
      "cell_type": "code",
      "source": [
        "classifier = RandomForestClassifier(n_estimators = 100, criterion = 'entropy', min_samples_leaf = 2, random_state = 42)\n",
        "classifier.fit(X_train, y_train)"
      ],
      "metadata": {
        "colab": {
          "base_uri": "https://localhost:8080/"
        },
        "id": "rkn_Th-CXrM_",
        "outputId": "7bdcebcb-db80-4fc1-fb3e-9f5985564ba9"
      },
      "execution_count": 55,
      "outputs": [
        {
          "output_type": "execute_result",
          "data": {
            "text/plain": [
              "RandomForestClassifier(criterion='entropy', min_samples_leaf=2, random_state=42)"
            ]
          },
          "metadata": {},
          "execution_count": 55
        }
      ]
    },
    {
      "cell_type": "code",
      "source": [
        "# param_grid = { \n",
        "#     'n_estimators': [100, 200, 300],\n",
        "#     'max_features': ['auto', 'sqrt', 'log2'],\n",
        "#     'max_depth' : [5,10,15,20],\n",
        "#     'criterion' :['gini', 'entropy']\n",
        "# }"
      ],
      "metadata": {
        "id": "PupqR6L0y30S"
      },
      "execution_count": 56,
      "outputs": []
    },
    {
      "cell_type": "code",
      "source": [
        "# rfc = RandomForestClassifier()\n",
        "# CV_rfc = GridSearchCV(estimator=rfc, param_grid=param_grid, cv= 5)\n",
        "# CV_rfc.fit(X_train, y_train)"
      ],
      "metadata": {
        "id": "UocKI4o5y3w9"
      },
      "execution_count": 57,
      "outputs": []
    },
    {
      "cell_type": "code",
      "source": [
        "# CV_rfc.best_params_"
      ],
      "metadata": {
        "id": "DdnhMwOI_Ofd"
      },
      "execution_count": 58,
      "outputs": []
    },
    {
      "cell_type": "code",
      "source": [
        "# classifier = RandomForestClassifier(n_estimators = 300, max_features = 'auto', max_depth = 10, criterion = 'gini')\n",
        "# classifier.fit(X_train, y_train)"
      ],
      "metadata": {
        "id": "3s3v6ul4_XbS"
      },
      "execution_count": 59,
      "outputs": []
    },
    {
      "cell_type": "code",
      "source": [
        "y_pred = classifier.predict(X_test)"
      ],
      "metadata": {
        "id": "d2TiY3SuYXV8"
      },
      "execution_count": 60,
      "outputs": []
    },
    {
      "cell_type": "code",
      "source": [
        "matrix = confusion_matrix(y_test,y_pred, labels=[1,2,3,4,5])"
      ],
      "metadata": {
        "id": "p-JWUOtMYsEc"
      },
      "execution_count": 61,
      "outputs": []
    },
    {
      "cell_type": "code",
      "source": [
        "fig, ax = plot_confusion_matrix(conf_mat=matrix)\n",
        "plt.show()"
      ],
      "metadata": {
        "colab": {
          "base_uri": "https://localhost:8080/",
          "height": 279
        },
        "id": "Nkgrshk5ZCVT",
        "outputId": "7a45a59a-d131-4e98-b17a-3f5f93bb1470"
      },
      "execution_count": 62,
      "outputs": [
        {
          "output_type": "display_data",
          "data": {
            "text/plain": [
              "<Figure size 432x288 with 1 Axes>"
            ],
            "image/png": "[encoded data removed]"
          },
          "metadata": {
            "needs_background": "light"
          }
        }
      ]
    },
    {
      "cell_type": "code",
      "source": [
        "# F1 Score\n",
        "\n",
        "label = [1,2,3,4,5]\n",
        "\n",
        "scores = list(f1_score(y_test, y_pred, average = None, labels = label))\n",
        "\n",
        "sum(scores)/len(scores)*100"
      ],
      "metadata": {
        "colab": {
          "base_uri": "https://localhost:8080/"
        },
        "id": "CP_unkrrZDrX",
        "outputId": "418dc3a7-bcf2-49e5-d004-a1e795999f4b"
      },
      "execution_count": 63,
      "outputs": [
        {
          "output_type": "execute_result",
          "data": {
            "text/plain": [
              "75.12787417313905"
            ]
          },
          "metadata": {},
          "execution_count": 63
        }
      ]
    },
    {
      "cell_type": "code",
      "source": [
        ""
      ],
      "metadata": {
        "id": "3Vu5pRyDCEjp"
      },
      "execution_count": 63,
      "outputs": []
    }
  ]
}